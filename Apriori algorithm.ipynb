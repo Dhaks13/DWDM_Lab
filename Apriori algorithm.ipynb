{
 "cells": [
  {
   "cell_type": "markdown",
   "id": "3fd99780",
   "metadata": {},
   "source": [
    "### Implement an Apriori algorithm for generating frequent item sets in transactional data by iteratively finding patterns that occur together."
   ]
  },
  {
   "cell_type": "code",
   "execution_count": 1,
   "id": "25ac6247",
   "metadata": {},
   "outputs": [],
   "source": [
    "import pandas as pd\n",
    "import numpy as np\n",
    "import math"
   ]
  },
  {
   "cell_type": "code",
   "execution_count": 5,
   "id": "bcc19950",
   "metadata": {},
   "outputs": [
    {
     "data": {
      "text/plain": [
       "[['W1', 'W2', 'W3', 'W4'],\n",
       " ['W1', 'W2', 'W3'],\n",
       " ['W3', 'W4'],\n",
       " ['W1', 'W2', 'W5'],\n",
       " ['W1', 'W3', 'W4'],\n",
       " ['W3', 'W4', 'W5']]"
      ]
     },
     "execution_count": 5,
     "metadata": {},
     "output_type": "execute_result"
    }
   ],
   "source": [
    "transactions = [[\"W1\",\"W2\",\"W3\",\"W4\"],\n",
    "    [\"W1\",\"W2\",\"W3\"],\n",
    "    [\"W3\",\"W4\"],\n",
    "    [\"W1\",\"W2\",\"W5\"],\n",
    "    [\"W1\",\"W3\",\"W4\"],\n",
    "    [\"W3\",\"W4\",\"W5\"]]\n",
    "transactions"
   ]
  },
  {
   "cell_type": "code",
   "execution_count": 23,
   "id": "7ee90a76",
   "metadata": {},
   "outputs": [],
   "source": [
    "def count_item(trans_items):\n",
    "    count_ind_item = {}\n",
    "    for row in trans_items:\n",
    "        for i in range(len(row)):\n",
    "            if row[i] in count_ind_item.keys():\n",
    "                count_ind_item[row[i]] += 1\n",
    "            else:\n",
    "                count_ind_item[row[i]] = 1\n",
    "    \n",
    "    data = pd.DataFrame()\n",
    "    data[\"item_sets\"] = count_ind_item.keys()\n",
    "    data[\"supp_count\"] = count_ind_item.values()\n",
    "    data = data.sort_values(\"item_sets\")\n",
    "    return data"
   ]
  },
  {
   "cell_type": "code",
   "execution_count": 8,
   "id": "61dc5af9",
   "metadata": {},
   "outputs": [],
   "source": [
    "def prune(data,supp):\n",
    "    df = data[data.supp_count>=supp]\n",
    "    return df"
   ]
  },
  {
   "cell_type": "code",
   "execution_count": 31,
   "id": "11a7ed4a",
   "metadata": {},
   "outputs": [],
   "source": [
    "def count_itemset(transaction_df, itemsets):\n",
    "    count_item = {}\n",
    "    for item_set in itemsets:\n",
    "        set_A = set(item_set)\n",
    "        for row in transaction_df:\n",
    "            set_B = set(row)\n",
    "            \n",
    "            if set_B.intersection(set_A) == set_A:\n",
    "                if item_set in count_item.keys():\n",
    "                    count_item[item_set] += 1\n",
    "                else:\n",
    "                    count_item[item_set] = 1\n",
    "        \n",
    "    data = pd.DataFrame()\n",
    "    data[\"item_sets\"] = count_item.keys()\n",
    "    data[\"supp_count\"] = count_item.values()\n",
    "    return data"
   ]
  },
  {
   "cell_type": "code",
   "execution_count": 33,
   "id": "73439691",
   "metadata": {},
   "outputs": [],
   "source": [
    "def join(list_of_items):\n",
    "    itemsets = []\n",
    "    i = 1\n",
    "    for entry in list_of_items:\n",
    "        proceding_items = list_of_items[i:]\n",
    "        for item in proceding_items:\n",
    "            if(type(item) is str):\n",
    "                if entry != item:\n",
    "                    tuples = (entry,item)\n",
    "                    itemsets.append(tuples)\n",
    "            else:\n",
    "                if entry[0:-1] == item[0:-1]:\n",
    "                    tuples = entry + item[1:]\n",
    "                    itemsets.append(tuples)\n",
    "        \n",
    "        i += 1\n",
    "    \n",
    "    if(len(itemsets)==0):\n",
    "        return None\n",
    "    return itemsets"
   ]
  },
  {
   "cell_type": "code",
   "execution_count": 67,
   "id": "bddc025e",
   "metadata": {},
   "outputs": [],
   "source": [
    "def calculate_conf(value1,value2):\n",
    "    return round(int(value1)/int(value2)*100,2)"
   ]
  },
  {
   "cell_type": "code",
   "execution_count": 27,
   "id": "7db99536",
   "metadata": {},
   "outputs": [],
   "source": [
    "def apriori(trans_data,supp=3,con=0.5):\n",
    "    freq = pd.DataFrame()\n",
    "    \n",
    "    df = count_item(trans_data)\n",
    "    \n",
    "    while(len(df)!=0):\n",
    "        df = prune(df,supp)\n",
    "        \n",
    "        if len(df) > 1 or (len(df) == 1 and int(df.supp_count >= supp)):\n",
    "            freq = df\n",
    "        \n",
    "        itemsets = join(df.item_sets)\n",
    "        \n",
    "        if (itemsets is None):\n",
    "            return freq\n",
    "        \n",
    "        df = count_itemset(trans_data, itemsets)\n",
    "    \n",
    "    return df       \n",
    "        "
   ]
  },
  {
   "cell_type": "code",
   "execution_count": 93,
   "id": "68dfb930",
   "metadata": {},
   "outputs": [],
   "source": [
    "def strong_rules(freq_item_sets, threshold):\n",
    "    confidences = {}\n",
    "    for row in freq_item_sets.item_sets:\n",
    "        for i in range(len(row)):\n",
    "            for j in range(len(row)):\n",
    "                if i != j:\n",
    "                    tuples = (row[i], row[j])\n",
    "                    conf = calculate_conf(freq_item_sets[freq_item_sets.item_sets == row].supp_count.iloc[0],\n",
    "                     count_item(transactions)[count_item(transactions).item_sets == row[i]].supp_count.iloc[0])\n",
    "\n",
    "                    confidences[tuples] = conf\n",
    "    \n",
    "    conf_df = pd.DataFrame()\n",
    "    conf_df[\"item_set\"] = confidences.keys()\n",
    "    conf_df[\"confidence\"] = confidences.values()\n",
    "    \n",
    "    return conf_df[conf_df.confidence >= threshold]"
   ]
  },
  {
   "cell_type": "code",
   "execution_count": 94,
   "id": "275066f8",
   "metadata": {},
   "outputs": [
    {
     "data": {
      "text/html": [
       "<div>\n",
       "<style scoped>\n",
       "    .dataframe tbody tr th:only-of-type {\n",
       "        vertical-align: middle;\n",
       "    }\n",
       "\n",
       "    .dataframe tbody tr th {\n",
       "        vertical-align: top;\n",
       "    }\n",
       "\n",
       "    .dataframe thead th {\n",
       "        text-align: right;\n",
       "    }\n",
       "</style>\n",
       "<table border=\"1\" class=\"dataframe\">\n",
       "  <thead>\n",
       "    <tr style=\"text-align: right;\">\n",
       "      <th></th>\n",
       "      <th>item_sets</th>\n",
       "      <th>supp_count</th>\n",
       "    </tr>\n",
       "  </thead>\n",
       "  <tbody>\n",
       "    <tr>\n",
       "      <th>0</th>\n",
       "      <td>(W1, W2)</td>\n",
       "      <td>3</td>\n",
       "    </tr>\n",
       "    <tr>\n",
       "      <th>1</th>\n",
       "      <td>(W1, W3)</td>\n",
       "      <td>3</td>\n",
       "    </tr>\n",
       "    <tr>\n",
       "      <th>5</th>\n",
       "      <td>(W3, W4)</td>\n",
       "      <td>4</td>\n",
       "    </tr>\n",
       "  </tbody>\n",
       "</table>\n",
       "</div>"
      ],
      "text/plain": [
       "  item_sets  supp_count\n",
       "0  (W1, W2)           3\n",
       "1  (W1, W3)           3\n",
       "5  (W3, W4)           4"
      ]
     },
     "execution_count": 94,
     "metadata": {},
     "output_type": "execute_result"
    }
   ],
   "source": [
    "freq_item_sets = apriori(transactions,3)\n",
    "freq_item_sets "
   ]
  },
  {
   "cell_type": "code",
   "execution_count": 96,
   "id": "0eee127b",
   "metadata": {},
   "outputs": [
    {
     "data": {
      "text/html": [
       "<div>\n",
       "<style scoped>\n",
       "    .dataframe tbody tr th:only-of-type {\n",
       "        vertical-align: middle;\n",
       "    }\n",
       "\n",
       "    .dataframe tbody tr th {\n",
       "        vertical-align: top;\n",
       "    }\n",
       "\n",
       "    .dataframe thead th {\n",
       "        text-align: right;\n",
       "    }\n",
       "</style>\n",
       "<table border=\"1\" class=\"dataframe\">\n",
       "  <thead>\n",
       "    <tr style=\"text-align: right;\">\n",
       "      <th></th>\n",
       "      <th>item_set</th>\n",
       "      <th>confidence</th>\n",
       "    </tr>\n",
       "  </thead>\n",
       "  <tbody>\n",
       "    <tr>\n",
       "      <th>1</th>\n",
       "      <td>(W2, W1)</td>\n",
       "      <td>100.0</td>\n",
       "    </tr>\n",
       "    <tr>\n",
       "      <th>4</th>\n",
       "      <td>(W3, W4)</td>\n",
       "      <td>80.0</td>\n",
       "    </tr>\n",
       "    <tr>\n",
       "      <th>5</th>\n",
       "      <td>(W4, W3)</td>\n",
       "      <td>100.0</td>\n",
       "    </tr>\n",
       "  </tbody>\n",
       "</table>\n",
       "</div>"
      ],
      "text/plain": [
       "   item_set  confidence\n",
       "1  (W2, W1)       100.0\n",
       "4  (W3, W4)        80.0\n",
       "5  (W4, W3)       100.0"
      ]
     },
     "execution_count": 96,
     "metadata": {},
     "output_type": "execute_result"
    }
   ],
   "source": [
    "strong_rules(freq_item_sets, 80.0)"
   ]
  },
  {
   "cell_type": "markdown",
   "id": "9dc65e69",
   "metadata": {},
   "source": [
    "## -- END --"
   ]
  }
 ],
 "metadata": {
  "kernelspec": {
   "display_name": "Python 3 (ipykernel)",
   "language": "python",
   "name": "python3"
  },
  "language_info": {
   "codemirror_mode": {
    "name": "ipython",
    "version": 3
   },
   "file_extension": ".py",
   "mimetype": "text/x-python",
   "name": "python",
   "nbconvert_exporter": "python",
   "pygments_lexer": "ipython3",
   "version": "3.11.4"
  }
 },
 "nbformat": 4,
 "nbformat_minor": 5
}
