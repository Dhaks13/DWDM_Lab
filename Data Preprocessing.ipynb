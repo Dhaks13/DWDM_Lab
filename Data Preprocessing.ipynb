{
 "cells": [
  {
   "cell_type": "markdown",
   "id": "7746eacc",
   "metadata": {},
   "source": [
    "# Imports"
   ]
  },
  {
   "cell_type": "code",
   "execution_count": 4,
   "id": "8f3c4b04",
   "metadata": {},
   "outputs": [],
   "source": [
    "import pandas as pd\n",
    "import numpy as np\n",
    "import seaborn as sns\n",
    "import matplotlib.pyplot as plt"
   ]
  },
  {
   "cell_type": "code",
   "execution_count": 5,
   "id": "8525dab6",
   "metadata": {},
   "outputs": [],
   "source": [
    "dataset = pd.read_csv('Iris.csv')"
   ]
  },
  {
   "cell_type": "code",
   "execution_count": 6,
   "id": "3fecedec",
   "metadata": {},
   "outputs": [
    {
     "data": {
      "text/html": [
       "<div>\n",
       "<style scoped>\n",
       "    .dataframe tbody tr th:only-of-type {\n",
       "        vertical-align: middle;\n",
       "    }\n",
       "\n",
       "    .dataframe tbody tr th {\n",
       "        vertical-align: top;\n",
       "    }\n",
       "\n",
       "    .dataframe thead th {\n",
       "        text-align: right;\n",
       "    }\n",
       "</style>\n",
       "<table border=\"1\" class=\"dataframe\">\n",
       "  <thead>\n",
       "    <tr style=\"text-align: right;\">\n",
       "      <th></th>\n",
       "      <th>Id</th>\n",
       "      <th>SepalLengthCm</th>\n",
       "      <th>SepalWidthCm</th>\n",
       "      <th>PetalLengthCm</th>\n",
       "      <th>PetalWidthCm</th>\n",
       "      <th>Species</th>\n",
       "    </tr>\n",
       "  </thead>\n",
       "  <tbody>\n",
       "    <tr>\n",
       "      <th>0</th>\n",
       "      <td>1</td>\n",
       "      <td>5.1</td>\n",
       "      <td>3.5</td>\n",
       "      <td>1.4</td>\n",
       "      <td>0.2</td>\n",
       "      <td>Iris-setosa</td>\n",
       "    </tr>\n",
       "    <tr>\n",
       "      <th>1</th>\n",
       "      <td>2</td>\n",
       "      <td>4.9</td>\n",
       "      <td>3.0</td>\n",
       "      <td>NaN</td>\n",
       "      <td>0.2</td>\n",
       "      <td>Iris-setosa</td>\n",
       "    </tr>\n",
       "    <tr>\n",
       "      <th>2</th>\n",
       "      <td>3</td>\n",
       "      <td>4.7</td>\n",
       "      <td>3.2</td>\n",
       "      <td>1.3</td>\n",
       "      <td>0.2</td>\n",
       "      <td>Iris-setosa</td>\n",
       "    </tr>\n",
       "    <tr>\n",
       "      <th>3</th>\n",
       "      <td>4</td>\n",
       "      <td>4.6</td>\n",
       "      <td>3.1</td>\n",
       "      <td>1.5</td>\n",
       "      <td>0.2</td>\n",
       "      <td>Iris-setosa</td>\n",
       "    </tr>\n",
       "    <tr>\n",
       "      <th>4</th>\n",
       "      <td>5</td>\n",
       "      <td>5.0</td>\n",
       "      <td>3.6</td>\n",
       "      <td>1.4</td>\n",
       "      <td>0.2</td>\n",
       "      <td>Iris-setosa</td>\n",
       "    </tr>\n",
       "  </tbody>\n",
       "</table>\n",
       "</div>"
      ],
      "text/plain": [
       "   Id  SepalLengthCm  SepalWidthCm  PetalLengthCm  PetalWidthCm      Species\n",
       "0   1            5.1           3.5            1.4           0.2  Iris-setosa\n",
       "1   2            4.9           3.0            NaN           0.2  Iris-setosa\n",
       "2   3            4.7           3.2            1.3           0.2  Iris-setosa\n",
       "3   4            4.6           3.1            1.5           0.2  Iris-setosa\n",
       "4   5            5.0           3.6            1.4           0.2  Iris-setosa"
      ]
     },
     "execution_count": 6,
     "metadata": {},
     "output_type": "execute_result"
    }
   ],
   "source": [
    "dataset[:5]"
   ]
  },
  {
   "cell_type": "code",
   "execution_count": 7,
   "id": "257eafb4",
   "metadata": {},
   "outputs": [
    {
     "data": {
      "text/html": [
       "<div>\n",
       "<style scoped>\n",
       "    .dataframe tbody tr th:only-of-type {\n",
       "        vertical-align: middle;\n",
       "    }\n",
       "\n",
       "    .dataframe tbody tr th {\n",
       "        vertical-align: top;\n",
       "    }\n",
       "\n",
       "    .dataframe thead th {\n",
       "        text-align: right;\n",
       "    }\n",
       "</style>\n",
       "<table border=\"1\" class=\"dataframe\">\n",
       "  <thead>\n",
       "    <tr style=\"text-align: right;\">\n",
       "      <th></th>\n",
       "      <th>Id</th>\n",
       "      <th>SepalLengthCm</th>\n",
       "      <th>SepalWidthCm</th>\n",
       "      <th>PetalLengthCm</th>\n",
       "      <th>PetalWidthCm</th>\n",
       "    </tr>\n",
       "  </thead>\n",
       "  <tbody>\n",
       "    <tr>\n",
       "      <th>count</th>\n",
       "      <td>150.000000</td>\n",
       "      <td>149.000000</td>\n",
       "      <td>148.000000</td>\n",
       "      <td>145.000000</td>\n",
       "      <td>150.000000</td>\n",
       "    </tr>\n",
       "    <tr>\n",
       "      <th>mean</th>\n",
       "      <td>75.500000</td>\n",
       "      <td>5.842282</td>\n",
       "      <td>3.052027</td>\n",
       "      <td>3.737241</td>\n",
       "      <td>1.198667</td>\n",
       "    </tr>\n",
       "    <tr>\n",
       "      <th>std</th>\n",
       "      <td>43.445368</td>\n",
       "      <td>0.830758</td>\n",
       "      <td>0.436197</td>\n",
       "      <td>1.768786</td>\n",
       "      <td>0.763161</td>\n",
       "    </tr>\n",
       "    <tr>\n",
       "      <th>min</th>\n",
       "      <td>1.000000</td>\n",
       "      <td>4.300000</td>\n",
       "      <td>2.000000</td>\n",
       "      <td>1.000000</td>\n",
       "      <td>0.100000</td>\n",
       "    </tr>\n",
       "    <tr>\n",
       "      <th>25%</th>\n",
       "      <td>38.250000</td>\n",
       "      <td>5.100000</td>\n",
       "      <td>2.800000</td>\n",
       "      <td>1.600000</td>\n",
       "      <td>0.300000</td>\n",
       "    </tr>\n",
       "    <tr>\n",
       "      <th>50%</th>\n",
       "      <td>75.500000</td>\n",
       "      <td>5.800000</td>\n",
       "      <td>3.000000</td>\n",
       "      <td>4.300000</td>\n",
       "      <td>1.300000</td>\n",
       "    </tr>\n",
       "    <tr>\n",
       "      <th>75%</th>\n",
       "      <td>112.750000</td>\n",
       "      <td>6.400000</td>\n",
       "      <td>3.300000</td>\n",
       "      <td>5.100000</td>\n",
       "      <td>1.800000</td>\n",
       "    </tr>\n",
       "    <tr>\n",
       "      <th>max</th>\n",
       "      <td>150.000000</td>\n",
       "      <td>7.900000</td>\n",
       "      <td>4.400000</td>\n",
       "      <td>6.900000</td>\n",
       "      <td>2.500000</td>\n",
       "    </tr>\n",
       "  </tbody>\n",
       "</table>\n",
       "</div>"
      ],
      "text/plain": [
       "               Id  SepalLengthCm  SepalWidthCm  PetalLengthCm  PetalWidthCm\n",
       "count  150.000000     149.000000    148.000000     145.000000    150.000000\n",
       "mean    75.500000       5.842282      3.052027       3.737241      1.198667\n",
       "std     43.445368       0.830758      0.436197       1.768786      0.763161\n",
       "min      1.000000       4.300000      2.000000       1.000000      0.100000\n",
       "25%     38.250000       5.100000      2.800000       1.600000      0.300000\n",
       "50%     75.500000       5.800000      3.000000       4.300000      1.300000\n",
       "75%    112.750000       6.400000      3.300000       5.100000      1.800000\n",
       "max    150.000000       7.900000      4.400000       6.900000      2.500000"
      ]
     },
     "execution_count": 7,
     "metadata": {},
     "output_type": "execute_result"
    }
   ],
   "source": [
    "dataset.describe()"
   ]
  },
  {
   "cell_type": "markdown",
   "id": "2b6f8e1a",
   "metadata": {},
   "source": [
    "# Data cleaning\n"
   ]
  },
  {
   "cell_type": "markdown",
   "id": "f63909dc",
   "metadata": {},
   "source": [
    "### Identify missing values"
   ]
  },
  {
   "cell_type": "code",
   "execution_count": 8,
   "id": "abf32f1b",
   "metadata": {},
   "outputs": [
    {
     "data": {
      "text/plain": [
       "Id               0\n",
       "SepalLengthCm    1\n",
       "SepalWidthCm     2\n",
       "PetalLengthCm    5\n",
       "PetalWidthCm     0\n",
       "Species          0\n",
       "dtype: int64"
      ]
     },
     "execution_count": 8,
     "metadata": {},
     "output_type": "execute_result"
    }
   ],
   "source": [
    "dataset.isnull().sum()"
   ]
  },
  {
   "cell_type": "markdown",
   "id": "cc13b6a4",
   "metadata": {},
   "source": [
    "### visualize not availabe data in dataset\n"
   ]
  },
  {
   "cell_type": "code",
   "execution_count": 9,
   "id": "ca056c44",
   "metadata": {},
   "outputs": [
    {
     "data": {
      "text/plain": [
       "<seaborn.axisgrid.FacetGrid at 0x1be37c0fc10>"
      ]
     },
     "execution_count": 9,
     "metadata": {},
     "output_type": "execute_result"
    },
    {
     "data": {
      "text/plain": [
       "<Figure size 1000x600 with 0 Axes>"
      ]
     },
     "metadata": {},
     "output_type": "display_data"
    },
    {
     "data": {
      "image/png": "[encoded data removed]",
      "text/plain": [
       "<Figure size 834.875x500 with 1 Axes>"
      ]
     },
     "metadata": {},
     "output_type": "display_data"
    }
   ],
   "source": [
    "plt.figure(figsize=(10,6))\n",
    "sns.displot(\n",
    "    data = dataset.isna().melt(value_name='missing?'),\n",
    "    y='variable',\n",
    "    hue='missing?',\n",
    "    multiple='fill',\n",
    "    aspect=1.5\n",
    ")"
   ]
  },
  {
   "cell_type": "markdown",
   "id": "efd7293c",
   "metadata": {},
   "source": [
    "### Fill missing values by mean, median, std_deviation and variance"
   ]
  },
  {
   "cell_type": "code",
   "execution_count": 10,
   "id": "87a41238",
   "metadata": {},
   "outputs": [],
   "source": [
    "df = dataset"
   ]
  },
  {
   "cell_type": "code",
   "execution_count": 11,
   "id": "776ef0f1",
   "metadata": {},
   "outputs": [],
   "source": [
    "# mean\n",
    "df['SepalLengthCm']=df['SepalLengthCm'].fillna(df['SepalLengthCm'].mean())"
   ]
  },
  {
   "cell_type": "code",
   "execution_count": 12,
   "id": "3d11d732",
   "metadata": {},
   "outputs": [],
   "source": [
    "# median\n",
    "df['SepalWidthCm']=df['SepalWidthCm'].fillna(df['SepalWidthCm'].median())"
   ]
  },
  {
   "cell_type": "code",
   "execution_count": 13,
   "id": "2dbf7e52",
   "metadata": {},
   "outputs": [],
   "source": [
    "# Standard deviation\n",
    "df['PetalLengthCm']=df['PetalLengthCm'].fillna(df['PetalLengthCm'].std())"
   ]
  },
  {
   "cell_type": "code",
   "execution_count": 14,
   "id": "cf3a252a",
   "metadata": {},
   "outputs": [
    {
     "data": {
      "text/html": [
       "<div>\n",
       "<style scoped>\n",
       "    .dataframe tbody tr th:only-of-type {\n",
       "        vertical-align: middle;\n",
       "    }\n",
       "\n",
       "    .dataframe tbody tr th {\n",
       "        vertical-align: top;\n",
       "    }\n",
       "\n",
       "    .dataframe thead th {\n",
       "        text-align: right;\n",
       "    }\n",
       "</style>\n",
       "<table border=\"1\" class=\"dataframe\">\n",
       "  <thead>\n",
       "    <tr style=\"text-align: right;\">\n",
       "      <th></th>\n",
       "      <th>Id</th>\n",
       "      <th>SepalLengthCm</th>\n",
       "      <th>SepalWidthCm</th>\n",
       "      <th>PetalLengthCm</th>\n",
       "      <th>PetalWidthCm</th>\n",
       "      <th>Species</th>\n",
       "    </tr>\n",
       "  </thead>\n",
       "  <tbody>\n",
       "    <tr>\n",
       "      <th>0</th>\n",
       "      <td>1</td>\n",
       "      <td>5.1</td>\n",
       "      <td>3.5</td>\n",
       "      <td>1.400000</td>\n",
       "      <td>0.2</td>\n",
       "      <td>Iris-setosa</td>\n",
       "    </tr>\n",
       "    <tr>\n",
       "      <th>1</th>\n",
       "      <td>2</td>\n",
       "      <td>4.9</td>\n",
       "      <td>3.0</td>\n",
       "      <td>1.768786</td>\n",
       "      <td>0.2</td>\n",
       "      <td>Iris-setosa</td>\n",
       "    </tr>\n",
       "    <tr>\n",
       "      <th>2</th>\n",
       "      <td>3</td>\n",
       "      <td>4.7</td>\n",
       "      <td>3.2</td>\n",
       "      <td>1.300000</td>\n",
       "      <td>0.2</td>\n",
       "      <td>Iris-setosa</td>\n",
       "    </tr>\n",
       "    <tr>\n",
       "      <th>3</th>\n",
       "      <td>4</td>\n",
       "      <td>4.6</td>\n",
       "      <td>3.1</td>\n",
       "      <td>1.500000</td>\n",
       "      <td>0.2</td>\n",
       "      <td>Iris-setosa</td>\n",
       "    </tr>\n",
       "    <tr>\n",
       "      <th>4</th>\n",
       "      <td>5</td>\n",
       "      <td>5.0</td>\n",
       "      <td>3.6</td>\n",
       "      <td>1.400000</td>\n",
       "      <td>0.2</td>\n",
       "      <td>Iris-setosa</td>\n",
       "    </tr>\n",
       "    <tr>\n",
       "      <th>...</th>\n",
       "      <td>...</td>\n",
       "      <td>...</td>\n",
       "      <td>...</td>\n",
       "      <td>...</td>\n",
       "      <td>...</td>\n",
       "      <td>...</td>\n",
       "    </tr>\n",
       "    <tr>\n",
       "      <th>145</th>\n",
       "      <td>146</td>\n",
       "      <td>6.7</td>\n",
       "      <td>3.0</td>\n",
       "      <td>5.200000</td>\n",
       "      <td>2.3</td>\n",
       "      <td>Iris-virginica</td>\n",
       "    </tr>\n",
       "    <tr>\n",
       "      <th>146</th>\n",
       "      <td>147</td>\n",
       "      <td>6.3</td>\n",
       "      <td>2.5</td>\n",
       "      <td>5.000000</td>\n",
       "      <td>1.9</td>\n",
       "      <td>Iris-virginica</td>\n",
       "    </tr>\n",
       "    <tr>\n",
       "      <th>147</th>\n",
       "      <td>148</td>\n",
       "      <td>6.5</td>\n",
       "      <td>3.0</td>\n",
       "      <td>1.768786</td>\n",
       "      <td>2.0</td>\n",
       "      <td>Iris-virginica</td>\n",
       "    </tr>\n",
       "    <tr>\n",
       "      <th>148</th>\n",
       "      <td>149</td>\n",
       "      <td>6.2</td>\n",
       "      <td>3.4</td>\n",
       "      <td>5.400000</td>\n",
       "      <td>2.3</td>\n",
       "      <td>Iris-virginica</td>\n",
       "    </tr>\n",
       "    <tr>\n",
       "      <th>149</th>\n",
       "      <td>150</td>\n",
       "      <td>5.9</td>\n",
       "      <td>3.0</td>\n",
       "      <td>5.100000</td>\n",
       "      <td>1.8</td>\n",
       "      <td>Iris-virginica</td>\n",
       "    </tr>\n",
       "  </tbody>\n",
       "</table>\n",
       "<p>150 rows × 6 columns</p>\n",
       "</div>"
      ],
      "text/plain": [
       "      Id  SepalLengthCm  SepalWidthCm  PetalLengthCm  PetalWidthCm  \\\n",
       "0      1            5.1           3.5       1.400000           0.2   \n",
       "1      2            4.9           3.0       1.768786           0.2   \n",
       "2      3            4.7           3.2       1.300000           0.2   \n",
       "3      4            4.6           3.1       1.500000           0.2   \n",
       "4      5            5.0           3.6       1.400000           0.2   \n",
       "..   ...            ...           ...            ...           ...   \n",
       "145  146            6.7           3.0       5.200000           2.3   \n",
       "146  147            6.3           2.5       5.000000           1.9   \n",
       "147  148            6.5           3.0       1.768786           2.0   \n",
       "148  149            6.2           3.4       5.400000           2.3   \n",
       "149  150            5.9           3.0       5.100000           1.8   \n",
       "\n",
       "            Species  \n",
       "0       Iris-setosa  \n",
       "1       Iris-setosa  \n",
       "2       Iris-setosa  \n",
       "3       Iris-setosa  \n",
       "4       Iris-setosa  \n",
       "..              ...  \n",
       "145  Iris-virginica  \n",
       "146  Iris-virginica  \n",
       "147  Iris-virginica  \n",
       "148  Iris-virginica  \n",
       "149  Iris-virginica  \n",
       "\n",
       "[150 rows x 6 columns]"
      ]
     },
     "execution_count": 14,
     "metadata": {},
     "output_type": "execute_result"
    }
   ],
   "source": [
    "df"
   ]
  },
  {
   "cell_type": "code",
   "execution_count": 15,
   "id": "90249215",
   "metadata": {},
   "outputs": [
    {
     "data": {
      "text/plain": [
       "Id               0\n",
       "SepalLengthCm    0\n",
       "SepalWidthCm     0\n",
       "PetalLengthCm    0\n",
       "PetalWidthCm     0\n",
       "Species          0\n",
       "dtype: int64"
      ]
     },
     "execution_count": 15,
     "metadata": {},
     "output_type": "execute_result"
    }
   ],
   "source": [
    "dataset.isnull().sum()"
   ]
  },
  {
   "cell_type": "markdown",
   "id": "83baa87e",
   "metadata": {},
   "source": [
    "# Data Integration"
   ]
  },
  {
   "cell_type": "markdown",
   "id": "c08ed575",
   "metadata": {},
   "source": [
    "### Performing chi-sqaure test"
   ]
  },
  {
   "cell_type": "code",
   "execution_count": 16,
   "id": "43d414ac",
   "metadata": {},
   "outputs": [],
   "source": [
    "np.random.seed(10)\n",
    "alpha=10.8"
   ]
  },
  {
   "cell_type": "code",
   "execution_count": 17,
   "id": "6e17f4ba",
   "metadata": {},
   "outputs": [],
   "source": [
    "movie_type=np.random.choice(\n",
    "    a=['Ficiton','Non-Fiction'],\n",
    "    p = [0.75,0.25],\n",
    "    size=1000\n",
    ")"
   ]
  },
  {
   "cell_type": "code",
   "execution_count": 18,
   "id": "1b594026",
   "metadata": {},
   "outputs": [],
   "source": [
    "cast_gender=np.random.choice(\n",
    "    a=['male','female'],\n",
    "    p = [0.40,0.60],\n",
    "    size=1000\n",
    ")"
   ]
  },
  {
   "cell_type": "code",
   "execution_count": 19,
   "id": "3abcd6bc",
   "metadata": {},
   "outputs": [],
   "source": [
    "movies=pd.DataFrame({\"types\":movie_type,\"gender\":cast_gender})"
   ]
  },
  {
   "cell_type": "code",
   "execution_count": 20,
   "id": "e9ebd011",
   "metadata": {},
   "outputs": [
    {
     "data": {
      "text/html": [
       "<div>\n",
       "<style scoped>\n",
       "    .dataframe tbody tr th:only-of-type {\n",
       "        vertical-align: middle;\n",
       "    }\n",
       "\n",
       "    .dataframe tbody tr th {\n",
       "        vertical-align: top;\n",
       "    }\n",
       "\n",
       "    .dataframe thead th {\n",
       "        text-align: right;\n",
       "    }\n",
       "</style>\n",
       "<table border=\"1\" class=\"dataframe\">\n",
       "  <thead>\n",
       "    <tr style=\"text-align: right;\">\n",
       "      <th></th>\n",
       "      <th>male</th>\n",
       "      <th>female</th>\n",
       "      <th>r_tot</th>\n",
       "    </tr>\n",
       "  </thead>\n",
       "  <tbody>\n",
       "    <tr>\n",
       "      <th>fiction</th>\n",
       "      <td>446</td>\n",
       "      <td>299</td>\n",
       "      <td>745</td>\n",
       "    </tr>\n",
       "    <tr>\n",
       "      <th>non-fiction</th>\n",
       "      <td>157</td>\n",
       "      <td>98</td>\n",
       "      <td>255</td>\n",
       "    </tr>\n",
       "    <tr>\n",
       "      <th>c_tot</th>\n",
       "      <td>603</td>\n",
       "      <td>397</td>\n",
       "      <td>1000</td>\n",
       "    </tr>\n",
       "  </tbody>\n",
       "</table>\n",
       "</div>"
      ],
      "text/plain": [
       "             male  female  r_tot\n",
       "fiction       446     299    745\n",
       "non-fiction   157      98    255\n",
       "c_tot         603     397   1000"
      ]
     },
     "execution_count": 20,
     "metadata": {},
     "output_type": "execute_result"
    }
   ],
   "source": [
    "movie=pd.crosstab(movies.types,movies.gender,margins=True)\n",
    "movie.columns=[\"male\",\"female\",\"r_tot\"]\n",
    "movie.index=[\"fiction\",\"non-fiction\",\"c_tot\"]\n",
    "movie"
   ]
  },
  {
   "cell_type": "code",
   "execution_count": 21,
   "id": "0613ac6b",
   "metadata": {},
   "outputs": [
    {
     "data": {
      "text/html": [
       "<div>\n",
       "<style scoped>\n",
       "    .dataframe tbody tr th:only-of-type {\n",
       "        vertical-align: middle;\n",
       "    }\n",
       "\n",
       "    .dataframe tbody tr th {\n",
       "        vertical-align: top;\n",
       "    }\n",
       "\n",
       "    .dataframe thead th {\n",
       "        text-align: right;\n",
       "    }\n",
       "</style>\n",
       "<table border=\"1\" class=\"dataframe\">\n",
       "  <thead>\n",
       "    <tr style=\"text-align: right;\">\n",
       "      <th></th>\n",
       "      <th>male</th>\n",
       "      <th>female</th>\n",
       "    </tr>\n",
       "  </thead>\n",
       "  <tbody>\n",
       "    <tr>\n",
       "      <th>fiction</th>\n",
       "      <td>446</td>\n",
       "      <td>299</td>\n",
       "    </tr>\n",
       "    <tr>\n",
       "      <th>non-fiction</th>\n",
       "      <td>157</td>\n",
       "      <td>98</td>\n",
       "    </tr>\n",
       "  </tbody>\n",
       "</table>\n",
       "</div>"
      ],
      "text/plain": [
       "             male  female\n",
       "fiction       446     299\n",
       "non-fiction   157      98"
      ]
     },
     "execution_count": 21,
     "metadata": {},
     "output_type": "execute_result"
    }
   ],
   "source": [
    "observed = movie.iloc[0:2,0:2]\n",
    "observed"
   ]
  },
  {
   "cell_type": "code",
   "execution_count": 22,
   "id": "cd236c6c",
   "metadata": {},
   "outputs": [],
   "source": [
    "expected = np.outer(movie['r_tot'][0:2],movie.loc['c_tot'][0:2])/1000"
   ]
  },
  {
   "cell_type": "code",
   "execution_count": 23,
   "id": "747b9967",
   "metadata": {},
   "outputs": [],
   "source": [
    "expected = pd.DataFrame(expected)"
   ]
  },
  {
   "cell_type": "code",
   "execution_count": 24,
   "id": "2459cb91",
   "metadata": {},
   "outputs": [
    {
     "data": {
      "text/html": [
       "<div>\n",
       "<style scoped>\n",
       "    .dataframe tbody tr th:only-of-type {\n",
       "        vertical-align: middle;\n",
       "    }\n",
       "\n",
       "    .dataframe tbody tr th {\n",
       "        vertical-align: top;\n",
       "    }\n",
       "\n",
       "    .dataframe thead th {\n",
       "        text-align: right;\n",
       "    }\n",
       "</style>\n",
       "<table border=\"1\" class=\"dataframe\">\n",
       "  <thead>\n",
       "    <tr style=\"text-align: right;\">\n",
       "      <th></th>\n",
       "      <th>male</th>\n",
       "      <th>female</th>\n",
       "    </tr>\n",
       "  </thead>\n",
       "  <tbody>\n",
       "    <tr>\n",
       "      <th>fiction</th>\n",
       "      <td>449.235</td>\n",
       "      <td>295.765</td>\n",
       "    </tr>\n",
       "    <tr>\n",
       "      <th>non-fiction</th>\n",
       "      <td>153.765</td>\n",
       "      <td>101.235</td>\n",
       "    </tr>\n",
       "  </tbody>\n",
       "</table>\n",
       "</div>"
      ],
      "text/plain": [
       "                male   female\n",
       "fiction      449.235  295.765\n",
       "non-fiction  153.765  101.235"
      ]
     },
     "execution_count": 24,
     "metadata": {},
     "output_type": "execute_result"
    }
   ],
   "source": [
    "expected.columns = [\"male\",\"female\"]\n",
    "expected.index = [\"fiction\",\"non-fiction\"]\n",
    "expected"
   ]
  },
  {
   "cell_type": "code",
   "execution_count": 25,
   "id": "24b72dda",
   "metadata": {},
   "outputs": [
    {
     "data": {
      "text/plain": [
       "0.23011466562406513"
      ]
     },
     "execution_count": 25,
     "metadata": {},
     "output_type": "execute_result"
    }
   ],
   "source": [
    "chi_square =(((observed-expected)**2)/expected).sum().sum()\n",
    "chi_square"
   ]
  },
  {
   "cell_type": "markdown",
   "id": "5c4d8f7c",
   "metadata": {},
   "source": [
    "### Finding Correlation and covarience between two attributes"
   ]
  },
  {
   "cell_type": "code",
   "execution_count": 26,
   "id": "ff37d88d",
   "metadata": {},
   "outputs": [],
   "source": [
    "def covariance(x,y):\n",
    "    x_mean = sum(x)/float(len(x))\n",
    "    y_mean = sum(y)/float(len(y))\n",
    "    sub_x = [i-x_mean for i in x]\n",
    "    sub_y = [i-y_mean for i in y]\n",
    "    num = sum([sub_x[i]*sub_y[i] for i in range(len(x))])\n",
    "    den=float(len(x)-1)\n",
    "    con=num/den\n",
    "    return con"
   ]
  },
  {
   "cell_type": "code",
   "execution_count": 27,
   "id": "317f13c8",
   "metadata": {},
   "outputs": [
    {
     "data": {
      "text/plain": [
       "1.2118810690983244"
      ]
     },
     "execution_count": 27,
     "metadata": {},
     "output_type": "execute_result"
    }
   ],
   "source": [
    "cov = covariance(df['SepalLengthCm'],df['PetalLengthCm'])\n",
    "cov"
   ]
  },
  {
   "cell_type": "code",
   "execution_count": 28,
   "id": "07ae27e3",
   "metadata": {},
   "outputs": [],
   "source": [
    "def correlation(x,y,cov):\n",
    "    cor=cov/(x.std()*y.std())\n",
    "    return cor"
   ]
  },
  {
   "cell_type": "code",
   "execution_count": 29,
   "id": "a8785364",
   "metadata": {},
   "outputs": [
    {
     "data": {
      "text/plain": [
       "0.824783193831964"
      ]
     },
     "execution_count": 29,
     "metadata": {},
     "output_type": "execute_result"
    }
   ],
   "source": [
    "corr = correlation(df['SepalLengthCm'],df['PetalLengthCm'],cov)\n",
    "corr"
   ]
  },
  {
   "cell_type": "markdown",
   "id": "19487e7d",
   "metadata": {},
   "source": [
    "# Data Reduction"
   ]
  },
  {
   "cell_type": "markdown",
   "id": "a242e7c1",
   "metadata": {},
   "source": [
    "### Demostrate feature subset selection using covariance analysis"
   ]
  },
  {
   "cell_type": "code",
   "execution_count": 30,
   "id": "dcdd8c65",
   "metadata": {},
   "outputs": [],
   "source": [
    "x = df.iloc[:,:5]\n",
    "target = df.iloc[:,5]"
   ]
  },
  {
   "cell_type": "code",
   "execution_count": 31,
   "id": "1f4c3515",
   "metadata": {},
   "outputs": [
    {
     "data": {
      "text/html": [
       "<div>\n",
       "<style scoped>\n",
       "    .dataframe tbody tr th:only-of-type {\n",
       "        vertical-align: middle;\n",
       "    }\n",
       "\n",
       "    .dataframe tbody tr th {\n",
       "        vertical-align: top;\n",
       "    }\n",
       "\n",
       "    .dataframe thead th {\n",
       "        text-align: right;\n",
       "    }\n",
       "</style>\n",
       "<table border=\"1\" class=\"dataframe\">\n",
       "  <thead>\n",
       "    <tr style=\"text-align: right;\">\n",
       "      <th></th>\n",
       "      <th>Id</th>\n",
       "      <th>SepalLengthCm</th>\n",
       "      <th>SepalWidthCm</th>\n",
       "      <th>PetalLengthCm</th>\n",
       "      <th>PetalWidthCm</th>\n",
       "    </tr>\n",
       "  </thead>\n",
       "  <tbody>\n",
       "    <tr>\n",
       "      <th>Id</th>\n",
       "      <td>1.000000</td>\n",
       "      <td>0.714894</td>\n",
       "      <td>-0.395930</td>\n",
       "      <td>0.828937</td>\n",
       "      <td>0.899759</td>\n",
       "    </tr>\n",
       "    <tr>\n",
       "      <th>SepalLengthCm</th>\n",
       "      <td>0.714894</td>\n",
       "      <td>1.000000</td>\n",
       "      <td>-0.113845</td>\n",
       "      <td>0.824783</td>\n",
       "      <td>0.817045</td>\n",
       "    </tr>\n",
       "    <tr>\n",
       "      <th>SepalWidthCm</th>\n",
       "      <td>-0.395930</td>\n",
       "      <td>-0.113845</td>\n",
       "      <td>1.000000</td>\n",
       "      <td>-0.394128</td>\n",
       "      <td>-0.360043</td>\n",
       "    </tr>\n",
       "    <tr>\n",
       "      <th>PetalLengthCm</th>\n",
       "      <td>0.828937</td>\n",
       "      <td>0.824783</td>\n",
       "      <td>-0.394128</td>\n",
       "      <td>1.000000</td>\n",
       "      <td>0.911096</td>\n",
       "    </tr>\n",
       "    <tr>\n",
       "      <th>PetalWidthCm</th>\n",
       "      <td>0.899759</td>\n",
       "      <td>0.817045</td>\n",
       "      <td>-0.360043</td>\n",
       "      <td>0.911096</td>\n",
       "      <td>1.000000</td>\n",
       "    </tr>\n",
       "  </tbody>\n",
       "</table>\n",
       "</div>"
      ],
      "text/plain": [
       "                     Id  SepalLengthCm  SepalWidthCm  PetalLengthCm  \\\n",
       "Id             1.000000       0.714894     -0.395930       0.828937   \n",
       "SepalLengthCm  0.714894       1.000000     -0.113845       0.824783   \n",
       "SepalWidthCm  -0.395930      -0.113845      1.000000      -0.394128   \n",
       "PetalLengthCm  0.828937       0.824783     -0.394128       1.000000   \n",
       "PetalWidthCm   0.899759       0.817045     -0.360043       0.911096   \n",
       "\n",
       "               PetalWidthCm  \n",
       "Id                 0.899759  \n",
       "SepalLengthCm      0.817045  \n",
       "SepalWidthCm      -0.360043  \n",
       "PetalLengthCm      0.911096  \n",
       "PetalWidthCm       1.000000  "
      ]
     },
     "execution_count": 31,
     "metadata": {},
     "output_type": "execute_result"
    }
   ],
   "source": [
    "x.corr()"
   ]
  },
  {
   "cell_type": "markdown",
   "id": "2d78a085",
   "metadata": {},
   "source": [
    "### Demostrate principal component analysis for reducing the dataset"
   ]
  },
  {
   "cell_type": "code",
   "execution_count": 32,
   "id": "5d3b1afa",
   "metadata": {},
   "outputs": [],
   "source": [
    "def PCA(x,num):\n",
    "    x_meaned = x - np.mean(x,axis=0)\n",
    "    cov_mat = np.cov(x_meaned,rowvar=False)\n",
    "    eigen_values,eigen_vectors = np.linalg.eigh(cov_mat)\n",
    "    sorted_index = np.argsort(eigen_values)[::-1]\n",
    "    sorted_eigenvalues = eigen_values[sorted_index]\n",
    "    sorted_eigenvectors = eigen_vectors[:,sorted_index]\n",
    "    eigenvector_subset = sorted_eigenvectors[:,0:num]\n",
    "    X_reduced = np.dot(eigenvector_subset.transpose(),x_meaned.transpose()).transpose()\n",
    "    \n",
    "    return X_reduced"
   ]
  },
  {
   "cell_type": "code",
   "execution_count": 33,
   "id": "10648ec3",
   "metadata": {},
   "outputs": [
    {
     "data": {
      "text/plain": [
       "array([[-7.45450574e+01,  3.67939214e-01],\n",
       "       [-7.35341223e+01,  5.92386969e-01],\n",
       "       [-7.25543056e+01,  5.27796579e-02],\n",
       "       [-7.15493010e+01,  1.56153213e-01],\n",
       "       [-7.05500094e+01,  1.70632853e-01],\n",
       "       [-6.95332269e+01,  5.92011462e-01],\n",
       "       [-6.85546869e+01, -3.47985689e-02],\n",
       "       [-6.75482309e+01,  1.46824598e-01],\n",
       "       [-6.65586155e+01, -2.01774089e-01],\n",
       "       [-6.55515866e+01,  1.40107170e-02],\n",
       "       [-6.45463621e+01,  1.76672518e-01],\n",
       "       [-6.35507650e+01,  2.63936609e-03],\n",
       "       [-6.25583360e+01, -2.29255682e-01],\n",
       "       [-6.15761026e+01, -7.28989236e-01],\n",
       "       [-6.05554485e+01, -1.00942982e-01],\n",
       "       [-5.95458720e+01,  1.26019298e-01],\n",
       "       [-5.85555553e+01, -1.96646270e-01],\n",
       "       [-5.75570566e+01, -2.75616514e-01],\n",
       "       [-5.65407093e+01,  1.77779414e-01],\n",
       "       [-5.55564526e+01, -2.70979205e-01],\n",
       "       [-5.45463948e+01, -2.97963266e-02],\n",
       "       [-5.35560756e+01, -3.24740714e-01],\n",
       "       [-5.25833782e+01, -1.04607673e+00],\n",
       "       [-5.15477438e+01, -1.93205718e-01],\n",
       "       [-5.05509925e+01, -2.38368704e-01],\n",
       "       [-4.95576446e+01, -4.60339294e-01],\n",
       "       [-4.85568623e+01, -4.63209872e-01],\n",
       "       [-4.75618763e+01, -5.61944243e-01],\n",
       "       [-4.65656659e+01, -6.88403545e-01],\n",
       "       [-4.55657157e+01, -7.36699903e-01],\n",
       "       [-4.45647576e+01, -7.35276217e-01],\n",
       "       [-4.35587926e+01, -5.94705402e-01],\n",
       "       [-4.25698178e+01, -7.93149449e-01],\n",
       "       [-4.15687301e+01, -7.86093693e-01],\n",
       "       [-4.05715557e+01, -9.65402659e-01],\n",
       "       [-3.95799635e+01, -1.21411288e+00],\n",
       "       [-3.85717494e+01, -9.78028901e-01],\n",
       "       [-3.75739520e+01, -1.08293226e+00],\n",
       "       [-3.65863586e+01, -1.46864530e+00],\n",
       "       [-3.55724291e+01, -1.06837050e+00],\n",
       "       [-3.45801760e+01, -1.30455981e+00],\n",
       "       [-3.35830503e+01, -1.51025215e+00],\n",
       "       [-3.25903430e+01, -1.62964382e+00],\n",
       "       [-3.15676763e+01, -1.08646643e+00],\n",
       "       [-3.05612999e+01, -8.70231367e-01],\n",
       "       [-2.95815356e+01, -1.47719060e+00],\n",
       "       [-2.85762136e+01, -1.26176206e+00],\n",
       "       [-2.75882268e+01, -1.65918948e+00],\n",
       "       [-2.65780774e+01, -1.35048984e+00],\n",
       "       [-2.55847699e+01, -1.58587264e+00],\n",
       "       [-2.44264603e+01,  2.37097008e+00],\n",
       "       [-2.34414131e+01,  1.94036444e+00],\n",
       "       [-2.24214639e+01,  2.45332008e+00],\n",
       "       [-2.14718063e+01,  1.04320533e+00],\n",
       "       [-2.04374830e+01,  1.95930260e+00],\n",
       "       [-1.94557250e+01,  1.47817415e+00],\n",
       "       [-1.84388130e+01,  1.90518483e+00],\n",
       "       [-1.75120075e+01, -3.97099956e-02],\n",
       "       [-1.64428701e+01,  1.79401356e+00],\n",
       "       [-1.54840699e+01,  6.17215669e-01],\n",
       "       [-1.45046919e+01,  6.86571259e-02],\n",
       "       [-1.34655792e+01,  1.09233446e+00],\n",
       "       [-1.24765287e+01,  8.17696744e-01],\n",
       "       [-1.14487099e+01,  1.51773507e+00],\n",
       "       [-1.04951403e+01,  2.80124461e-01],\n",
       "       [-9.45307965e+00,  1.39752689e+00],\n",
       "       [-8.46350335e+00,  1.04937659e+00],\n",
       "       [-7.48183475e+00,  6.23604006e-01],\n",
       "       [-6.45377013e+00,  1.21891723e+00],\n",
       "       [-5.49055868e+00,  3.16222714e-01],\n",
       "       [-4.44771566e+00,  1.34365551e+00],\n",
       "       [-3.47998368e+00,  5.58020891e-01],\n",
       "       [-2.54925195e+00, -1.34826990e+00],\n",
       "       [-1.45946258e+00,  1.08322519e+00],\n",
       "       [-4.68531355e-01,  8.21994057e-01],\n",
       "       [ 5.37965079e-01,  9.69453710e-01],\n",
       "       [ 1.55422211e+00,  1.36919346e+00],\n",
       "       [ 2.56278225e+00,  1.53346454e+00],\n",
       "       [ 3.53275517e+00,  7.35220466e-01],\n",
       "       [ 4.48729949e+00, -4.19396017e-01],\n",
       "       [ 5.49630180e+00, -2.40455965e-01],\n",
       "       [ 6.49053771e+00, -3.91506829e-01],\n",
       "       [ 7.50257244e+00, -9.80112090e-02],\n",
       "       [ 8.55144342e+00,  1.10264932e+00],\n",
       "       [ 9.51939436e+00,  2.67290901e-01],\n",
       "       [ 1.05267704e+01,  4.72699117e-01],\n",
       "       [ 1.15418826e+01,  8.65551909e-01],\n",
       "       [ 1.25254758e+01,  3.76551201e-01],\n",
       "       [ 1.35022222e+01, -2.15113765e-01],\n",
       "       [ 1.44986489e+01, -3.71442318e-01],\n",
       "       [ 1.55094176e+01, -7.74945675e-02],\n",
       "       [ 1.65251445e+01,  3.29216939e-01],\n",
       "       [ 1.74983649e+01, -3.98201404e-01],\n",
       "       [ 1.84609939e+01, -1.40946504e+00],\n",
       "       [ 1.95019990e+01, -3.54305431e-01],\n",
       "       [ 2.04997988e+01, -3.83911889e-01],\n",
       "       [ 2.15009745e+01, -3.98496863e-01],\n",
       "       [ 2.25103725e+01, -1.55974302e-01],\n",
       "       [ 2.34489964e+01, -1.81702759e+00],\n",
       "       [ 2.44955873e+01, -6.03309235e-01],\n",
       "       [ 2.55842712e+01,  1.54600209e+00],\n",
       "       [ 2.65390806e+01,  3.87899732e-01],\n",
       "       [ 2.75850509e+01,  1.60250939e+00],\n",
       "       [ 2.85588527e+01,  9.22223849e-01],\n",
       "       [ 2.95734741e+01,  1.22644856e+00],\n",
       "       [ 3.06131644e+01,  2.30325265e+00],\n",
       "       [ 3.15001431e+01, -7.31241299e-01],\n",
       "       [ 3.25929788e+01,  1.77606071e+00],\n",
       "       [ 3.35686575e+01,  1.06759998e+00],\n",
       "       [ 3.45915442e+01,  1.62248990e+00],\n",
       "       [ 3.55410342e+01,  3.16203501e-01],\n",
       "       [ 3.65460375e+01,  4.05716466e-01],\n",
       "       [ 3.74331145e+01, -2.59911994e+00],\n",
       "       [ 3.85271168e+01, -1.83363922e-01],\n",
       "       [ 3.95362011e+01, -1.13145839e-02],\n",
       "       [ 4.05471885e+01,  3.28060822e-01],\n",
       "       [ 4.15474132e+01,  3.98261792e-01],\n",
       "       [ 4.26067496e+01,  1.96629303e+00],\n",
       "       [ 4.36190374e+01,  2.15417412e+00],\n",
       "       [ 4.45196958e+01, -4.08849303e-01],\n",
       "       [ 4.55635480e+01,  6.82164127e-01],\n",
       "       [ 4.65147950e+01, -6.31097773e-01],\n",
       "       [ 4.76035426e+01,  1.74698156e+00],\n",
       "       [ 4.84139612e+01, -3.28322948e+00],\n",
       "       [ 4.95540741e+01,  4.01513006e-01],\n",
       "       [ 5.05658983e+01,  7.57703584e-01],\n",
       "       [ 5.15124296e+01, -7.30575982e-01],\n",
       "       [ 5.25128648e+01, -7.23069971e-01],\n",
       "       [ 5.35453800e+01,  5.07467946e-02],\n",
       "       [ 5.45535619e+01,  3.81541176e-01],\n",
       "       [ 5.55711729e+01,  7.59188067e-01],\n",
       "       [ 5.65849753e+01,  1.18155198e+00],\n",
       "       [ 5.75437648e+01, -8.35139787e-02],\n",
       "       [ 5.85136175e+01, -7.65406916e-01],\n",
       "       [ 5.95262311e+01, -4.52499675e-01],\n",
       "       [ 6.05767959e+01,  7.64156551e-01],\n",
       "       [ 6.15399992e+01, -2.46660577e-01],\n",
       "       [ 6.25288822e+01, -4.65045665e-01],\n",
       "       [ 6.34971820e+01, -1.34254381e+00],\n",
       "       [ 6.45354500e+01, -3.73221462e-01],\n",
       "       [ 6.55434371e+01, -2.43112027e-01],\n",
       "       [ 6.65268556e+01, -6.74970684e-01],\n",
       "       [ 6.75063312e+01, -1.21833820e+00],\n",
       "       [ 6.85505851e+01, -7.84922817e-02],\n",
       "       [ 6.95444181e+01, -2.92236227e-01],\n",
       "       [ 7.05247162e+01, -8.17009722e-01],\n",
       "       [ 7.15073513e+01, -1.26791078e+00],\n",
       "       [ 7.23994911e+01, -4.10810611e+00],\n",
       "       [ 7.35207010e+01, -9.56536314e-01],\n",
       "       [ 7.44993384e+01, -1.48300387e+00]])"
      ]
     },
     "execution_count": 33,
     "metadata": {},
     "output_type": "execute_result"
    }
   ],
   "source": [
    "mat_reduced = PCA(x,2)\n",
    "mat_reduced"
   ]
  },
  {
   "cell_type": "code",
   "execution_count": 34,
   "id": "8d225974",
   "metadata": {},
   "outputs": [
    {
     "data": {
      "text/html": [
       "<div>\n",
       "<style scoped>\n",
       "    .dataframe tbody tr th:only-of-type {\n",
       "        vertical-align: middle;\n",
       "    }\n",
       "\n",
       "    .dataframe tbody tr th {\n",
       "        vertical-align: top;\n",
       "    }\n",
       "\n",
       "    .dataframe thead th {\n",
       "        text-align: right;\n",
       "    }\n",
       "</style>\n",
       "<table border=\"1\" class=\"dataframe\">\n",
       "  <thead>\n",
       "    <tr style=\"text-align: right;\">\n",
       "      <th></th>\n",
       "      <th>PC1</th>\n",
       "      <th>PC2</th>\n",
       "    </tr>\n",
       "  </thead>\n",
       "  <tbody>\n",
       "    <tr>\n",
       "      <th>0</th>\n",
       "      <td>-74.545057</td>\n",
       "      <td>0.367939</td>\n",
       "    </tr>\n",
       "    <tr>\n",
       "      <th>1</th>\n",
       "      <td>-73.534122</td>\n",
       "      <td>0.592387</td>\n",
       "    </tr>\n",
       "    <tr>\n",
       "      <th>2</th>\n",
       "      <td>-72.554306</td>\n",
       "      <td>0.052780</td>\n",
       "    </tr>\n",
       "    <tr>\n",
       "      <th>3</th>\n",
       "      <td>-71.549301</td>\n",
       "      <td>0.156153</td>\n",
       "    </tr>\n",
       "    <tr>\n",
       "      <th>4</th>\n",
       "      <td>-70.550009</td>\n",
       "      <td>0.170633</td>\n",
       "    </tr>\n",
       "    <tr>\n",
       "      <th>...</th>\n",
       "      <td>...</td>\n",
       "      <td>...</td>\n",
       "    </tr>\n",
       "    <tr>\n",
       "      <th>145</th>\n",
       "      <td>70.524716</td>\n",
       "      <td>-0.817010</td>\n",
       "    </tr>\n",
       "    <tr>\n",
       "      <th>146</th>\n",
       "      <td>71.507351</td>\n",
       "      <td>-1.267911</td>\n",
       "    </tr>\n",
       "    <tr>\n",
       "      <th>147</th>\n",
       "      <td>72.399491</td>\n",
       "      <td>-4.108106</td>\n",
       "    </tr>\n",
       "    <tr>\n",
       "      <th>148</th>\n",
       "      <td>73.520701</td>\n",
       "      <td>-0.956536</td>\n",
       "    </tr>\n",
       "    <tr>\n",
       "      <th>149</th>\n",
       "      <td>74.499338</td>\n",
       "      <td>-1.483004</td>\n",
       "    </tr>\n",
       "  </tbody>\n",
       "</table>\n",
       "<p>150 rows × 2 columns</p>\n",
       "</div>"
      ],
      "text/plain": [
       "           PC1       PC2\n",
       "0   -74.545057  0.367939\n",
       "1   -73.534122  0.592387\n",
       "2   -72.554306  0.052780\n",
       "3   -71.549301  0.156153\n",
       "4   -70.550009  0.170633\n",
       "..         ...       ...\n",
       "145  70.524716 -0.817010\n",
       "146  71.507351 -1.267911\n",
       "147  72.399491 -4.108106\n",
       "148  73.520701 -0.956536\n",
       "149  74.499338 -1.483004\n",
       "\n",
       "[150 rows x 2 columns]"
      ]
     },
     "execution_count": 34,
     "metadata": {},
     "output_type": "execute_result"
    }
   ],
   "source": [
    "principal_df = pd.DataFrame(mat_reduced, columns = ['PC1','PC2'])\n",
    "principal_df"
   ]
  },
  {
   "cell_type": "code",
   "execution_count": 35,
   "id": "aa74041d",
   "metadata": {},
   "outputs": [
    {
     "data": {
      "text/html": [
       "<div>\n",
       "<style scoped>\n",
       "    .dataframe tbody tr th:only-of-type {\n",
       "        vertical-align: middle;\n",
       "    }\n",
       "\n",
       "    .dataframe tbody tr th {\n",
       "        vertical-align: top;\n",
       "    }\n",
       "\n",
       "    .dataframe thead th {\n",
       "        text-align: right;\n",
       "    }\n",
       "</style>\n",
       "<table border=\"1\" class=\"dataframe\">\n",
       "  <thead>\n",
       "    <tr style=\"text-align: right;\">\n",
       "      <th></th>\n",
       "      <th>PC1</th>\n",
       "      <th>PC2</th>\n",
       "      <th>Species</th>\n",
       "    </tr>\n",
       "  </thead>\n",
       "  <tbody>\n",
       "    <tr>\n",
       "      <th>0</th>\n",
       "      <td>-74.545057</td>\n",
       "      <td>0.367939</td>\n",
       "      <td>Iris-setosa</td>\n",
       "    </tr>\n",
       "    <tr>\n",
       "      <th>1</th>\n",
       "      <td>-73.534122</td>\n",
       "      <td>0.592387</td>\n",
       "      <td>Iris-setosa</td>\n",
       "    </tr>\n",
       "    <tr>\n",
       "      <th>2</th>\n",
       "      <td>-72.554306</td>\n",
       "      <td>0.052780</td>\n",
       "      <td>Iris-setosa</td>\n",
       "    </tr>\n",
       "    <tr>\n",
       "      <th>3</th>\n",
       "      <td>-71.549301</td>\n",
       "      <td>0.156153</td>\n",
       "      <td>Iris-setosa</td>\n",
       "    </tr>\n",
       "    <tr>\n",
       "      <th>4</th>\n",
       "      <td>-70.550009</td>\n",
       "      <td>0.170633</td>\n",
       "      <td>Iris-setosa</td>\n",
       "    </tr>\n",
       "    <tr>\n",
       "      <th>...</th>\n",
       "      <td>...</td>\n",
       "      <td>...</td>\n",
       "      <td>...</td>\n",
       "    </tr>\n",
       "    <tr>\n",
       "      <th>145</th>\n",
       "      <td>70.524716</td>\n",
       "      <td>-0.817010</td>\n",
       "      <td>Iris-virginica</td>\n",
       "    </tr>\n",
       "    <tr>\n",
       "      <th>146</th>\n",
       "      <td>71.507351</td>\n",
       "      <td>-1.267911</td>\n",
       "      <td>Iris-virginica</td>\n",
       "    </tr>\n",
       "    <tr>\n",
       "      <th>147</th>\n",
       "      <td>72.399491</td>\n",
       "      <td>-4.108106</td>\n",
       "      <td>Iris-virginica</td>\n",
       "    </tr>\n",
       "    <tr>\n",
       "      <th>148</th>\n",
       "      <td>73.520701</td>\n",
       "      <td>-0.956536</td>\n",
       "      <td>Iris-virginica</td>\n",
       "    </tr>\n",
       "    <tr>\n",
       "      <th>149</th>\n",
       "      <td>74.499338</td>\n",
       "      <td>-1.483004</td>\n",
       "      <td>Iris-virginica</td>\n",
       "    </tr>\n",
       "  </tbody>\n",
       "</table>\n",
       "<p>150 rows × 3 columns</p>\n",
       "</div>"
      ],
      "text/plain": [
       "           PC1       PC2         Species\n",
       "0   -74.545057  0.367939     Iris-setosa\n",
       "1   -73.534122  0.592387     Iris-setosa\n",
       "2   -72.554306  0.052780     Iris-setosa\n",
       "3   -71.549301  0.156153     Iris-setosa\n",
       "4   -70.550009  0.170633     Iris-setosa\n",
       "..         ...       ...             ...\n",
       "145  70.524716 -0.817010  Iris-virginica\n",
       "146  71.507351 -1.267911  Iris-virginica\n",
       "147  72.399491 -4.108106  Iris-virginica\n",
       "148  73.520701 -0.956536  Iris-virginica\n",
       "149  74.499338 -1.483004  Iris-virginica\n",
       "\n",
       "[150 rows x 3 columns]"
      ]
     },
     "execution_count": 35,
     "metadata": {},
     "output_type": "execute_result"
    }
   ],
   "source": [
    "principal_df = pd.concat([principal_df,df['Species']],axis=1)\n",
    "principal_df"
   ]
  },
  {
   "cell_type": "code",
   "execution_count": 36,
   "id": "ea1724c5",
   "metadata": {},
   "outputs": [
    {
     "data": {
      "text/plain": [
       "<Axes: xlabel='PC1', ylabel='PC2'>"
      ]
     },
     "execution_count": 36,
     "metadata": {},
     "output_type": "execute_result"
    },
    {
     "data": {
      "image/png": "[encoded data removed]",
      "text/plain": [
       "<Figure size 600x600 with 1 Axes>"
      ]
     },
     "metadata": {},
     "output_type": "display_data"
    }
   ],
   "source": [
    "plt.figure(figsize=(6,6))\n",
    "sns.scatterplot(data=principal_df,x='PC1',y='PC2',hue='Species',s=60,palette='icefire')"
   ]
  },
  {
   "cell_type": "markdown",
   "id": "40e70024",
   "metadata": {},
   "source": [
    "# Data Normalization"
   ]
  },
  {
   "cell_type": "markdown",
   "id": "a90731af",
   "metadata": {},
   "source": [
    "### Demonstrate min_max normalization"
   ]
  },
  {
   "cell_type": "code",
   "execution_count": 37,
   "id": "6255b7da",
   "metadata": {},
   "outputs": [
    {
     "data": {
      "text/html": [
       "<div>\n",
       "<style scoped>\n",
       "    .dataframe tbody tr th:only-of-type {\n",
       "        vertical-align: middle;\n",
       "    }\n",
       "\n",
       "    .dataframe tbody tr th {\n",
       "        vertical-align: top;\n",
       "    }\n",
       "\n",
       "    .dataframe thead th {\n",
       "        text-align: right;\n",
       "    }\n",
       "</style>\n",
       "<table border=\"1\" class=\"dataframe\">\n",
       "  <thead>\n",
       "    <tr style=\"text-align: right;\">\n",
       "      <th></th>\n",
       "      <th>Id</th>\n",
       "      <th>SepalLengthCm</th>\n",
       "      <th>SepalWidthCm</th>\n",
       "      <th>PetalLengthCm</th>\n",
       "      <th>PetalWidthCm</th>\n",
       "    </tr>\n",
       "  </thead>\n",
       "  <tbody>\n",
       "    <tr>\n",
       "      <th>0</th>\n",
       "      <td>1</td>\n",
       "      <td>5.1</td>\n",
       "      <td>3.5</td>\n",
       "      <td>1.400000</td>\n",
       "      <td>0.2</td>\n",
       "    </tr>\n",
       "    <tr>\n",
       "      <th>1</th>\n",
       "      <td>2</td>\n",
       "      <td>4.9</td>\n",
       "      <td>3.0</td>\n",
       "      <td>1.768786</td>\n",
       "      <td>0.2</td>\n",
       "    </tr>\n",
       "    <tr>\n",
       "      <th>2</th>\n",
       "      <td>3</td>\n",
       "      <td>4.7</td>\n",
       "      <td>3.2</td>\n",
       "      <td>1.300000</td>\n",
       "      <td>0.2</td>\n",
       "    </tr>\n",
       "    <tr>\n",
       "      <th>3</th>\n",
       "      <td>4</td>\n",
       "      <td>4.6</td>\n",
       "      <td>3.1</td>\n",
       "      <td>1.500000</td>\n",
       "      <td>0.2</td>\n",
       "    </tr>\n",
       "    <tr>\n",
       "      <th>4</th>\n",
       "      <td>5</td>\n",
       "      <td>5.0</td>\n",
       "      <td>3.6</td>\n",
       "      <td>1.400000</td>\n",
       "      <td>0.2</td>\n",
       "    </tr>\n",
       "  </tbody>\n",
       "</table>\n",
       "</div>"
      ],
      "text/plain": [
       "   Id  SepalLengthCm  SepalWidthCm  PetalLengthCm  PetalWidthCm\n",
       "0   1            5.1           3.5       1.400000           0.2\n",
       "1   2            4.9           3.0       1.768786           0.2\n",
       "2   3            4.7           3.2       1.300000           0.2\n",
       "3   4            4.6           3.1       1.500000           0.2\n",
       "4   5            5.0           3.6       1.400000           0.2"
      ]
     },
     "execution_count": 37,
     "metadata": {},
     "output_type": "execute_result"
    }
   ],
   "source": [
    "x.head()"
   ]
  },
  {
   "cell_type": "code",
   "execution_count": 38,
   "id": "665db36a",
   "metadata": {},
   "outputs": [],
   "source": [
    "def minmax_norm(df):\n",
    "    for col in df.columns:\n",
    "        df[col] = (df[col] - df[col].min())/(df[col].max()-df[col].min())\n",
    "    return df"
   ]
  },
  {
   "cell_type": "code",
   "execution_count": 39,
   "id": "a4c668b2",
   "metadata": {},
   "outputs": [
    {
     "data": {
      "text/html": [
       "<div>\n",
       "<style scoped>\n",
       "    .dataframe tbody tr th:only-of-type {\n",
       "        vertical-align: middle;\n",
       "    }\n",
       "\n",
       "    .dataframe tbody tr th {\n",
       "        vertical-align: top;\n",
       "    }\n",
       "\n",
       "    .dataframe thead th {\n",
       "        text-align: right;\n",
       "    }\n",
       "</style>\n",
       "<table border=\"1\" class=\"dataframe\">\n",
       "  <thead>\n",
       "    <tr style=\"text-align: right;\">\n",
       "      <th></th>\n",
       "      <th>Id</th>\n",
       "      <th>SepalLengthCm</th>\n",
       "      <th>SepalWidthCm</th>\n",
       "      <th>PetalLengthCm</th>\n",
       "      <th>PetalWidthCm</th>\n",
       "    </tr>\n",
       "  </thead>\n",
       "  <tbody>\n",
       "    <tr>\n",
       "      <th>0</th>\n",
       "      <td>0.000000</td>\n",
       "      <td>0.222222</td>\n",
       "      <td>0.625000</td>\n",
       "      <td>0.067797</td>\n",
       "      <td>0.041667</td>\n",
       "    </tr>\n",
       "    <tr>\n",
       "      <th>1</th>\n",
       "      <td>0.006711</td>\n",
       "      <td>0.166667</td>\n",
       "      <td>0.416667</td>\n",
       "      <td>0.130303</td>\n",
       "      <td>0.041667</td>\n",
       "    </tr>\n",
       "    <tr>\n",
       "      <th>2</th>\n",
       "      <td>0.013423</td>\n",
       "      <td>0.111111</td>\n",
       "      <td>0.500000</td>\n",
       "      <td>0.050847</td>\n",
       "      <td>0.041667</td>\n",
       "    </tr>\n",
       "    <tr>\n",
       "      <th>3</th>\n",
       "      <td>0.020134</td>\n",
       "      <td>0.083333</td>\n",
       "      <td>0.458333</td>\n",
       "      <td>0.084746</td>\n",
       "      <td>0.041667</td>\n",
       "    </tr>\n",
       "    <tr>\n",
       "      <th>4</th>\n",
       "      <td>0.026846</td>\n",
       "      <td>0.194444</td>\n",
       "      <td>0.666667</td>\n",
       "      <td>0.067797</td>\n",
       "      <td>0.041667</td>\n",
       "    </tr>\n",
       "    <tr>\n",
       "      <th>...</th>\n",
       "      <td>...</td>\n",
       "      <td>...</td>\n",
       "      <td>...</td>\n",
       "      <td>...</td>\n",
       "      <td>...</td>\n",
       "    </tr>\n",
       "    <tr>\n",
       "      <th>145</th>\n",
       "      <td>0.973154</td>\n",
       "      <td>0.666667</td>\n",
       "      <td>0.416667</td>\n",
       "      <td>0.711864</td>\n",
       "      <td>0.916667</td>\n",
       "    </tr>\n",
       "    <tr>\n",
       "      <th>146</th>\n",
       "      <td>0.979866</td>\n",
       "      <td>0.555556</td>\n",
       "      <td>0.208333</td>\n",
       "      <td>0.677966</td>\n",
       "      <td>0.750000</td>\n",
       "    </tr>\n",
       "    <tr>\n",
       "      <th>147</th>\n",
       "      <td>0.986577</td>\n",
       "      <td>0.611111</td>\n",
       "      <td>0.416667</td>\n",
       "      <td>0.130303</td>\n",
       "      <td>0.791667</td>\n",
       "    </tr>\n",
       "    <tr>\n",
       "      <th>148</th>\n",
       "      <td>0.993289</td>\n",
       "      <td>0.527778</td>\n",
       "      <td>0.583333</td>\n",
       "      <td>0.745763</td>\n",
       "      <td>0.916667</td>\n",
       "    </tr>\n",
       "    <tr>\n",
       "      <th>149</th>\n",
       "      <td>1.000000</td>\n",
       "      <td>0.444444</td>\n",
       "      <td>0.416667</td>\n",
       "      <td>0.694915</td>\n",
       "      <td>0.708333</td>\n",
       "    </tr>\n",
       "  </tbody>\n",
       "</table>\n",
       "<p>150 rows × 5 columns</p>\n",
       "</div>"
      ],
      "text/plain": [
       "           Id  SepalLengthCm  SepalWidthCm  PetalLengthCm  PetalWidthCm\n",
       "0    0.000000       0.222222      0.625000       0.067797      0.041667\n",
       "1    0.006711       0.166667      0.416667       0.130303      0.041667\n",
       "2    0.013423       0.111111      0.500000       0.050847      0.041667\n",
       "3    0.020134       0.083333      0.458333       0.084746      0.041667\n",
       "4    0.026846       0.194444      0.666667       0.067797      0.041667\n",
       "..        ...            ...           ...            ...           ...\n",
       "145  0.973154       0.666667      0.416667       0.711864      0.916667\n",
       "146  0.979866       0.555556      0.208333       0.677966      0.750000\n",
       "147  0.986577       0.611111      0.416667       0.130303      0.791667\n",
       "148  0.993289       0.527778      0.583333       0.745763      0.916667\n",
       "149  1.000000       0.444444      0.416667       0.694915      0.708333\n",
       "\n",
       "[150 rows x 5 columns]"
      ]
     },
     "execution_count": 39,
     "metadata": {},
     "output_type": "execute_result"
    }
   ],
   "source": [
    "df_min_max_norm = minmax_norm(x)\n",
    "df_min_max_norm"
   ]
  },
  {
   "cell_type": "markdown",
   "id": "4d046773",
   "metadata": {},
   "source": [
    "#### Z_score Normalizaton"
   ]
  },
  {
   "cell_type": "code",
   "execution_count": 40,
   "id": "142c77dd",
   "metadata": {},
   "outputs": [],
   "source": [
    "def z_score_norm(df):\n",
    "    for col in df.columns:\n",
    "        df[col]=(df[col]-df[col].mean())/df[col].std()\n",
    "    return df"
   ]
  },
  {
   "cell_type": "code",
   "execution_count": 41,
   "id": "5c838b51",
   "metadata": {},
   "outputs": [
    {
     "data": {
      "text/html": [
       "<div>\n",
       "<style scoped>\n",
       "    .dataframe tbody tr th:only-of-type {\n",
       "        vertical-align: middle;\n",
       "    }\n",
       "\n",
       "    .dataframe tbody tr th {\n",
       "        vertical-align: top;\n",
       "    }\n",
       "\n",
       "    .dataframe thead th {\n",
       "        text-align: right;\n",
       "    }\n",
       "</style>\n",
       "<table border=\"1\" class=\"dataframe\">\n",
       "  <thead>\n",
       "    <tr style=\"text-align: right;\">\n",
       "      <th></th>\n",
       "      <th>Id</th>\n",
       "      <th>SepalLengthCm</th>\n",
       "      <th>SepalWidthCm</th>\n",
       "      <th>PetalLengthCm</th>\n",
       "      <th>PetalWidthCm</th>\n",
       "    </tr>\n",
       "  </thead>\n",
       "  <tbody>\n",
       "    <tr>\n",
       "      <th>0</th>\n",
       "      <td>-1.714797</td>\n",
       "      <td>-0.896513</td>\n",
       "      <td>1.035462</td>\n",
       "      <td>-1.280057</td>\n",
       "      <td>-1.308593</td>\n",
       "    </tr>\n",
       "    <tr>\n",
       "      <th>1</th>\n",
       "      <td>-1.691780</td>\n",
       "      <td>-1.138068</td>\n",
       "      <td>-0.118470</td>\n",
       "      <td>-1.072247</td>\n",
       "      <td>-1.308593</td>\n",
       "    </tr>\n",
       "    <tr>\n",
       "      <th>2</th>\n",
       "      <td>-1.668762</td>\n",
       "      <td>-1.379624</td>\n",
       "      <td>0.343102</td>\n",
       "      <td>-1.336406</td>\n",
       "      <td>-1.308593</td>\n",
       "    </tr>\n",
       "    <tr>\n",
       "      <th>3</th>\n",
       "      <td>-1.645745</td>\n",
       "      <td>-1.500402</td>\n",
       "      <td>0.112316</td>\n",
       "      <td>-1.223707</td>\n",
       "      <td>-1.308593</td>\n",
       "    </tr>\n",
       "    <tr>\n",
       "      <th>4</th>\n",
       "      <td>-1.622728</td>\n",
       "      <td>-1.017290</td>\n",
       "      <td>1.266248</td>\n",
       "      <td>-1.280057</td>\n",
       "      <td>-1.308593</td>\n",
       "    </tr>\n",
       "    <tr>\n",
       "      <th>...</th>\n",
       "      <td>...</td>\n",
       "      <td>...</td>\n",
       "      <td>...</td>\n",
       "      <td>...</td>\n",
       "      <td>...</td>\n",
       "    </tr>\n",
       "    <tr>\n",
       "      <th>145</th>\n",
       "      <td>1.622728</td>\n",
       "      <td>1.035934</td>\n",
       "      <td>-0.118470</td>\n",
       "      <td>0.861235</td>\n",
       "      <td>1.443121</td>\n",
       "    </tr>\n",
       "    <tr>\n",
       "      <th>146</th>\n",
       "      <td>1.645745</td>\n",
       "      <td>0.552822</td>\n",
       "      <td>-1.272402</td>\n",
       "      <td>0.748536</td>\n",
       "      <td>0.918985</td>\n",
       "    </tr>\n",
       "    <tr>\n",
       "      <th>147</th>\n",
       "      <td>1.668762</td>\n",
       "      <td>0.794378</td>\n",
       "      <td>-0.118470</td>\n",
       "      <td>-1.072247</td>\n",
       "      <td>1.050019</td>\n",
       "    </tr>\n",
       "    <tr>\n",
       "      <th>148</th>\n",
       "      <td>1.691780</td>\n",
       "      <td>0.432044</td>\n",
       "      <td>0.804675</td>\n",
       "      <td>0.973935</td>\n",
       "      <td>1.443121</td>\n",
       "    </tr>\n",
       "    <tr>\n",
       "      <th>149</th>\n",
       "      <td>1.714797</td>\n",
       "      <td>0.069711</td>\n",
       "      <td>-0.118470</td>\n",
       "      <td>0.804886</td>\n",
       "      <td>0.787951</td>\n",
       "    </tr>\n",
       "  </tbody>\n",
       "</table>\n",
       "<p>150 rows × 5 columns</p>\n",
       "</div>"
      ],
      "text/plain": [
       "           Id  SepalLengthCm  SepalWidthCm  PetalLengthCm  PetalWidthCm\n",
       "0   -1.714797      -0.896513      1.035462      -1.280057     -1.308593\n",
       "1   -1.691780      -1.138068     -0.118470      -1.072247     -1.308593\n",
       "2   -1.668762      -1.379624      0.343102      -1.336406     -1.308593\n",
       "3   -1.645745      -1.500402      0.112316      -1.223707     -1.308593\n",
       "4   -1.622728      -1.017290      1.266248      -1.280057     -1.308593\n",
       "..        ...            ...           ...            ...           ...\n",
       "145  1.622728       1.035934     -0.118470       0.861235      1.443121\n",
       "146  1.645745       0.552822     -1.272402       0.748536      0.918985\n",
       "147  1.668762       0.794378     -0.118470      -1.072247      1.050019\n",
       "148  1.691780       0.432044      0.804675       0.973935      1.443121\n",
       "149  1.714797       0.069711     -0.118470       0.804886      0.787951\n",
       "\n",
       "[150 rows x 5 columns]"
      ]
     },
     "execution_count": 41,
     "metadata": {},
     "output_type": "execute_result"
    }
   ],
   "source": [
    "df_z_score_norm = z_score_norm(x)\n",
    "df_z_score_norm"
   ]
  },
  {
   "cell_type": "markdown",
   "id": "d2a4cbdc",
   "metadata": {},
   "source": [
    "#### Decimal Scale Normalization"
   ]
  },
  {
   "cell_type": "code",
   "execution_count": 44,
   "id": "6adcb50f",
   "metadata": {},
   "outputs": [],
   "source": [
    "def dec_scale(df):\n",
    "    for x in df:\n",
    "        p = df[x].max()\n",
    "        q = len(str(abs(p)))\n",
    "        df[x] = df[x]/10**q\n",
    "    return df"
   ]
  },
  {
   "cell_type": "code",
   "execution_count": 51,
   "id": "17b89891",
   "metadata": {},
   "outputs": [
    {
     "data": {
      "text/html": [
       "<div>\n",
       "<style scoped>\n",
       "    .dataframe tbody tr th:only-of-type {\n",
       "        vertical-align: middle;\n",
       "    }\n",
       "\n",
       "    .dataframe tbody tr th {\n",
       "        vertical-align: top;\n",
       "    }\n",
       "\n",
       "    .dataframe thead th {\n",
       "        text-align: right;\n",
       "    }\n",
       "</style>\n",
       "<table border=\"1\" class=\"dataframe\">\n",
       "  <thead>\n",
       "    <tr style=\"text-align: right;\">\n",
       "      <th></th>\n",
       "      <th>Id</th>\n",
       "      <th>SepalLengthCm</th>\n",
       "      <th>SepalWidthCm</th>\n",
       "      <th>PetalLengthCm</th>\n",
       "      <th>PetalWidthCm</th>\n",
       "    </tr>\n",
       "  </thead>\n",
       "  <tbody>\n",
       "    <tr>\n",
       "      <th>0</th>\n",
       "      <td>-0.0</td>\n",
       "      <td>-0.0</td>\n",
       "      <td>0.0</td>\n",
       "      <td>-0.0</td>\n",
       "      <td>-0.0</td>\n",
       "    </tr>\n",
       "    <tr>\n",
       "      <th>1</th>\n",
       "      <td>-0.0</td>\n",
       "      <td>-0.0</td>\n",
       "      <td>-0.0</td>\n",
       "      <td>-0.0</td>\n",
       "      <td>-0.0</td>\n",
       "    </tr>\n",
       "    <tr>\n",
       "      <th>2</th>\n",
       "      <td>-0.0</td>\n",
       "      <td>-0.0</td>\n",
       "      <td>0.0</td>\n",
       "      <td>-0.0</td>\n",
       "      <td>-0.0</td>\n",
       "    </tr>\n",
       "    <tr>\n",
       "      <th>3</th>\n",
       "      <td>-0.0</td>\n",
       "      <td>-0.0</td>\n",
       "      <td>0.0</td>\n",
       "      <td>-0.0</td>\n",
       "      <td>-0.0</td>\n",
       "    </tr>\n",
       "    <tr>\n",
       "      <th>4</th>\n",
       "      <td>-0.0</td>\n",
       "      <td>-0.0</td>\n",
       "      <td>0.0</td>\n",
       "      <td>-0.0</td>\n",
       "      <td>-0.0</td>\n",
       "    </tr>\n",
       "    <tr>\n",
       "      <th>...</th>\n",
       "      <td>...</td>\n",
       "      <td>...</td>\n",
       "      <td>...</td>\n",
       "      <td>...</td>\n",
       "      <td>...</td>\n",
       "    </tr>\n",
       "    <tr>\n",
       "      <th>145</th>\n",
       "      <td>0.0</td>\n",
       "      <td>0.0</td>\n",
       "      <td>-0.0</td>\n",
       "      <td>0.0</td>\n",
       "      <td>0.0</td>\n",
       "    </tr>\n",
       "    <tr>\n",
       "      <th>146</th>\n",
       "      <td>0.0</td>\n",
       "      <td>0.0</td>\n",
       "      <td>-0.0</td>\n",
       "      <td>0.0</td>\n",
       "      <td>0.0</td>\n",
       "    </tr>\n",
       "    <tr>\n",
       "      <th>147</th>\n",
       "      <td>0.0</td>\n",
       "      <td>0.0</td>\n",
       "      <td>-0.0</td>\n",
       "      <td>-0.0</td>\n",
       "      <td>0.0</td>\n",
       "    </tr>\n",
       "    <tr>\n",
       "      <th>148</th>\n",
       "      <td>0.0</td>\n",
       "      <td>0.0</td>\n",
       "      <td>0.0</td>\n",
       "      <td>0.0</td>\n",
       "      <td>0.0</td>\n",
       "    </tr>\n",
       "    <tr>\n",
       "      <th>149</th>\n",
       "      <td>0.0</td>\n",
       "      <td>0.0</td>\n",
       "      <td>-0.0</td>\n",
       "      <td>0.0</td>\n",
       "      <td>0.0</td>\n",
       "    </tr>\n",
       "  </tbody>\n",
       "</table>\n",
       "<p>150 rows × 5 columns</p>\n",
       "</div>"
      ],
      "text/plain": [
       "      Id SepalLengthCm SepalWidthCm PetalLengthCm PetalWidthCm\n",
       "0   -0.0          -0.0          0.0          -0.0         -0.0\n",
       "1   -0.0          -0.0         -0.0          -0.0         -0.0\n",
       "2   -0.0          -0.0          0.0          -0.0         -0.0\n",
       "3   -0.0          -0.0          0.0          -0.0         -0.0\n",
       "4   -0.0          -0.0          0.0          -0.0         -0.0\n",
       "..   ...           ...          ...           ...          ...\n",
       "145  0.0           0.0         -0.0           0.0          0.0\n",
       "146  0.0           0.0         -0.0           0.0          0.0\n",
       "147  0.0           0.0         -0.0          -0.0          0.0\n",
       "148  0.0           0.0          0.0           0.0          0.0\n",
       "149  0.0           0.0         -0.0           0.0          0.0\n",
       "\n",
       "[150 rows x 5 columns]"
      ]
     },
     "execution_count": 51,
     "metadata": {},
     "output_type": "execute_result"
    }
   ],
   "source": [
    "df_dec_scaling = dec_scale(x)\n",
    "df_dec_scaling"
   ]
  },
  {
   "cell_type": "markdown",
   "id": "a0f3204a",
   "metadata": {},
   "source": [
    "### Demonstrate linear regression"
   ]
  },
  {
   "cell_type": "code",
   "execution_count": 58,
   "id": "e76841e6",
   "metadata": {},
   "outputs": [
    {
     "data": {
      "text/html": [
       "<div>\n",
       "<style scoped>\n",
       "    .dataframe tbody tr th:only-of-type {\n",
       "        vertical-align: middle;\n",
       "    }\n",
       "\n",
       "    .dataframe tbody tr th {\n",
       "        vertical-align: top;\n",
       "    }\n",
       "\n",
       "    .dataframe thead th {\n",
       "        text-align: right;\n",
       "    }\n",
       "</style>\n",
       "<table border=\"1\" class=\"dataframe\">\n",
       "  <thead>\n",
       "    <tr style=\"text-align: right;\">\n",
       "      <th></th>\n",
       "      <th>x</th>\n",
       "      <th>y</th>\n",
       "    </tr>\n",
       "  </thead>\n",
       "  <tbody>\n",
       "    <tr>\n",
       "      <th>0</th>\n",
       "      <td>14</td>\n",
       "      <td>12.0</td>\n",
       "    </tr>\n",
       "    <tr>\n",
       "      <th>1</th>\n",
       "      <td>-5</td>\n",
       "      <td>-12.0</td>\n",
       "    </tr>\n",
       "    <tr>\n",
       "      <th>2</th>\n",
       "      <td>18</td>\n",
       "      <td>14.0</td>\n",
       "    </tr>\n",
       "    <tr>\n",
       "      <th>3</th>\n",
       "      <td>12</td>\n",
       "      <td>-22.0</td>\n",
       "    </tr>\n",
       "    <tr>\n",
       "      <th>4</th>\n",
       "      <td>16</td>\n",
       "      <td>NaN</td>\n",
       "    </tr>\n",
       "  </tbody>\n",
       "</table>\n",
       "</div>"
      ],
      "text/plain": [
       "    x     y\n",
       "0  14  12.0\n",
       "1  -5 -12.0\n",
       "2  18  14.0\n",
       "3  12 -22.0\n",
       "4  16   NaN"
      ]
     },
     "execution_count": 58,
     "metadata": {},
     "output_type": "execute_result"
    }
   ],
   "source": [
    "data = {\"x\":[14,-5,18,12,16],\"y\":[12,-12,14,-22,np.nan]}\n",
    "dataset = pd.DataFrame(data)\n",
    "dataset"
   ]
  },
  {
   "cell_type": "code",
   "execution_count": 64,
   "id": "f664cb61",
   "metadata": {},
   "outputs": [],
   "source": [
    "def linear_regression(df):\n",
    "    df = np.array(df)\n",
    "    X = df[0:4,0]\n",
    "    y = df[0:4,1]\n",
    "    n = len(X)-1\n",
    "    sum_x = np.sum(X)\n",
    "    sum_y = np.sum(y)\n",
    "    sum_x_squared = np.sum(X**2)\n",
    "    sum_xy = np.sum(X * y)\n",
    "    \n",
    "    a = (n * sum_xy - sum_x * sum_y) / (n * sum_x_squared - sum_x**2)\n",
    "    b = (sum_y - a * sum_x) / n\n",
    "    \n",
    "    return a,b\n"
   ]
  },
  {
   "cell_type": "code",
   "execution_count": 65,
   "id": "a0bcf556",
   "metadata": {},
   "outputs": [],
   "source": [
    "a,b = linear_regression(dataset)"
   ]
  },
  {
   "cell_type": "code",
   "execution_count": 66,
   "id": "9b8b39ef",
   "metadata": {},
   "outputs": [
    {
     "data": {
      "text/plain": [
       "2.6080586080586095"
      ]
     },
     "execution_count": 66,
     "metadata": {},
     "output_type": "execute_result"
    }
   ],
   "source": [
    "d = np.array(dataset)\n",
    "d1 = d[4,0]\n",
    "y = a * d1 + b\n",
    "y"
   ]
  },
  {
   "cell_type": "code",
   "execution_count": 67,
   "id": "725ca29f",
   "metadata": {},
   "outputs": [
    {
     "data": {
      "text/html": [
       "<div>\n",
       "<style scoped>\n",
       "    .dataframe tbody tr th:only-of-type {\n",
       "        vertical-align: middle;\n",
       "    }\n",
       "\n",
       "    .dataframe tbody tr th {\n",
       "        vertical-align: top;\n",
       "    }\n",
       "\n",
       "    .dataframe thead th {\n",
       "        text-align: right;\n",
       "    }\n",
       "</style>\n",
       "<table border=\"1\" class=\"dataframe\">\n",
       "  <thead>\n",
       "    <tr style=\"text-align: right;\">\n",
       "      <th></th>\n",
       "      <th>x</th>\n",
       "      <th>y</th>\n",
       "    </tr>\n",
       "  </thead>\n",
       "  <tbody>\n",
       "    <tr>\n",
       "      <th>0</th>\n",
       "      <td>14</td>\n",
       "      <td>12.000000</td>\n",
       "    </tr>\n",
       "    <tr>\n",
       "      <th>1</th>\n",
       "      <td>-5</td>\n",
       "      <td>-12.000000</td>\n",
       "    </tr>\n",
       "    <tr>\n",
       "      <th>2</th>\n",
       "      <td>18</td>\n",
       "      <td>14.000000</td>\n",
       "    </tr>\n",
       "    <tr>\n",
       "      <th>3</th>\n",
       "      <td>12</td>\n",
       "      <td>-22.000000</td>\n",
       "    </tr>\n",
       "    <tr>\n",
       "      <th>4</th>\n",
       "      <td>16</td>\n",
       "      <td>2.608059</td>\n",
       "    </tr>\n",
       "  </tbody>\n",
       "</table>\n",
       "</div>"
      ],
      "text/plain": [
       "    x          y\n",
       "0  14  12.000000\n",
       "1  -5 -12.000000\n",
       "2  18  14.000000\n",
       "3  12 -22.000000\n",
       "4  16   2.608059"
      ]
     },
     "execution_count": 67,
     "metadata": {},
     "output_type": "execute_result"
    }
   ],
   "source": [
    "dataset.fillna(y)"
   ]
  },
  {
   "cell_type": "markdown",
   "id": "e95542c1",
   "metadata": {},
   "source": [
    "# -- END --"
   ]
  }
 ],
 "metadata": {
  "kernelspec": {
   "display_name": "Python 3 (ipykernel)",
   "language": "python",
   "name": "python3"
  },
  "language_info": {
   "codemirror_mode": {
    "name": "ipython",
    "version": 3
   },
   "file_extension": ".py",
   "mimetype": "text/x-python",
   "name": "python",
   "nbconvert_exporter": "python",
   "pygments_lexer": "ipython3",
   "version": "3.11.4"
  }
 },
 "nbformat": 4,
 "nbformat_minor": 5
}
