{
 "cells": [
  {
   "cell_type": "markdown",
   "id": "a308a2aa",
   "metadata": {},
   "source": [
    "# Import Required modules"
   ]
  },
  {
   "cell_type": "code",
   "execution_count": 33,
   "id": "36829bfe",
   "metadata": {},
   "outputs": [],
   "source": [
    "import pandas as pd\n",
    "import numpy as np"
   ]
  },
  {
   "cell_type": "markdown",
   "id": "fcd89f8a",
   "metadata": {},
   "source": [
    "# Creating the Data cube( snowflake schema) "
   ]
  },
  {
   "cell_type": "code",
   "execution_count": 34,
   "id": "3088052c",
   "metadata": {},
   "outputs": [
    {
     "data": {
      "text/html": [
       "<div>\n",
       "<style scoped>\n",
       "    .dataframe tbody tr th:only-of-type {\n",
       "        vertical-align: middle;\n",
       "    }\n",
       "\n",
       "    .dataframe tbody tr th {\n",
       "        vertical-align: top;\n",
       "    }\n",
       "\n",
       "    .dataframe thead th {\n",
       "        text-align: right;\n",
       "    }\n",
       "</style>\n",
       "<table border=\"1\" class=\"dataframe\">\n",
       "  <thead>\n",
       "    <tr style=\"text-align: right;\">\n",
       "      <th></th>\n",
       "      <th>Dept_ID</th>\n",
       "      <th>Dept_Name</th>\n",
       "      <th>Dept_Dean</th>\n",
       "    </tr>\n",
       "  </thead>\n",
       "  <tbody>\n",
       "    <tr>\n",
       "      <th>0</th>\n",
       "      <td>1</td>\n",
       "      <td>CSE</td>\n",
       "      <td>Dr.SS</td>\n",
       "    </tr>\n",
       "    <tr>\n",
       "      <th>1</th>\n",
       "      <td>2</td>\n",
       "      <td>ECE</td>\n",
       "      <td>Dr.AK</td>\n",
       "    </tr>\n",
       "    <tr>\n",
       "      <th>2</th>\n",
       "      <td>3</td>\n",
       "      <td>MECH</td>\n",
       "      <td>Dr.V</td>\n",
       "    </tr>\n",
       "  </tbody>\n",
       "</table>\n",
       "</div>"
      ],
      "text/plain": [
       "   Dept_ID Dept_Name Dept_Dean\n",
       "0        1       CSE     Dr.SS\n",
       "1        2       ECE     Dr.AK\n",
       "2        3      MECH      Dr.V"
      ]
     },
     "execution_count": 34,
     "metadata": {},
     "output_type": "execute_result"
    }
   ],
   "source": [
    "dept_data = {\n",
    "    \"Dept_ID\": [1,2,3],\n",
    "    \"Dept_Name\": [\"CSE\",\"ECE\",\"MECH\"],\n",
    "    \"Dept_Dean\": [\"Dr.SS\",\"Dr.AK\",\"Dr.V\"]\n",
    "}\n",
    "dept_df = pd.DataFrame(dept_data)\n",
    "dept_df"
   ]
  },
  {
   "cell_type": "code",
   "execution_count": 35,
   "id": "b3b35546",
   "metadata": {},
   "outputs": [
    {
     "data": {
      "text/html": [
       "<div>\n",
       "<style scoped>\n",
       "    .dataframe tbody tr th:only-of-type {\n",
       "        vertical-align: middle;\n",
       "    }\n",
       "\n",
       "    .dataframe tbody tr th {\n",
       "        vertical-align: top;\n",
       "    }\n",
       "\n",
       "    .dataframe thead th {\n",
       "        text-align: right;\n",
       "    }\n",
       "</style>\n",
       "<table border=\"1\" class=\"dataframe\">\n",
       "  <thead>\n",
       "    <tr style=\"text-align: right;\">\n",
       "      <th></th>\n",
       "      <th>Loc_ID</th>\n",
       "      <th>Loc_Name</th>\n",
       "    </tr>\n",
       "  </thead>\n",
       "  <tbody>\n",
       "    <tr>\n",
       "      <th>0</th>\n",
       "      <td>1</td>\n",
       "      <td>SOC</td>\n",
       "    </tr>\n",
       "    <tr>\n",
       "      <th>1</th>\n",
       "      <td>2</td>\n",
       "      <td>VV</td>\n",
       "    </tr>\n",
       "    <tr>\n",
       "      <th>2</th>\n",
       "      <td>3</td>\n",
       "      <td>VKJ</td>\n",
       "    </tr>\n",
       "  </tbody>\n",
       "</table>\n",
       "</div>"
      ],
      "text/plain": [
       "   Loc_ID Loc_Name\n",
       "0       1      SOC\n",
       "1       2       VV\n",
       "2       3      VKJ"
      ]
     },
     "execution_count": 35,
     "metadata": {},
     "output_type": "execute_result"
    }
   ],
   "source": [
    "loc_data = {\n",
    "    \"Loc_ID\": [1,2,3],\n",
    "    \"Loc_Name\": [\"SOC\",\"VV\",\"VKJ\"]\n",
    "}\n",
    "\n",
    "loc_df = pd.DataFrame(loc_data)\n",
    "loc_df"
   ]
  },
  {
   "cell_type": "code",
   "execution_count": 36,
   "id": "8fe7cddd",
   "metadata": {},
   "outputs": [
    {
     "data": {
      "text/html": [
       "<div>\n",
       "<style scoped>\n",
       "    .dataframe tbody tr th:only-of-type {\n",
       "        vertical-align: middle;\n",
       "    }\n",
       "\n",
       "    .dataframe tbody tr th {\n",
       "        vertical-align: top;\n",
       "    }\n",
       "\n",
       "    .dataframe thead th {\n",
       "        text-align: right;\n",
       "    }\n",
       "</style>\n",
       "<table border=\"1\" class=\"dataframe\">\n",
       "  <thead>\n",
       "    <tr style=\"text-align: right;\">\n",
       "      <th></th>\n",
       "      <th>year_ID</th>\n",
       "      <th>year</th>\n",
       "    </tr>\n",
       "  </thead>\n",
       "  <tbody>\n",
       "    <tr>\n",
       "      <th>0</th>\n",
       "      <td>1</td>\n",
       "      <td>2023</td>\n",
       "    </tr>\n",
       "    <tr>\n",
       "      <th>1</th>\n",
       "      <td>2</td>\n",
       "      <td>2024</td>\n",
       "    </tr>\n",
       "    <tr>\n",
       "      <th>2</th>\n",
       "      <td>3</td>\n",
       "      <td>2025</td>\n",
       "    </tr>\n",
       "  </tbody>\n",
       "</table>\n",
       "</div>"
      ],
      "text/plain": [
       "   year_ID  year\n",
       "0        1  2023\n",
       "1        2  2024\n",
       "2        3  2025"
      ]
     },
     "execution_count": 36,
     "metadata": {},
     "output_type": "execute_result"
    }
   ],
   "source": [
    "year_data = {\n",
    "    'year_ID': [1,2,3],\n",
    "    'year': [2023,2024,2025]\n",
    "}\n",
    "year_df = pd.DataFrame(year_data)\n",
    "year_df"
   ]
  },
  {
   "cell_type": "code",
   "execution_count": 18,
   "id": "b451d462",
   "metadata": {},
   "outputs": [
    {
     "data": {
      "text/html": [
       "<div>\n",
       "<style scoped>\n",
       "    .dataframe tbody tr th:only-of-type {\n",
       "        vertical-align: middle;\n",
       "    }\n",
       "\n",
       "    .dataframe tbody tr th {\n",
       "        vertical-align: top;\n",
       "    }\n",
       "\n",
       "    .dataframe thead th {\n",
       "        text-align: right;\n",
       "    }\n",
       "</style>\n",
       "<table border=\"1\" class=\"dataframe\">\n",
       "  <thead>\n",
       "    <tr style=\"text-align: right;\">\n",
       "      <th></th>\n",
       "      <th>enroll_id</th>\n",
       "      <th>Dept_ID</th>\n",
       "      <th>Loc_ID</th>\n",
       "      <th>year_ID</th>\n",
       "      <th>enrollment_count</th>\n",
       "      <th>Faculty_count</th>\n",
       "    </tr>\n",
       "  </thead>\n",
       "  <tbody>\n",
       "    <tr>\n",
       "      <th>0</th>\n",
       "      <td>1</td>\n",
       "      <td>1</td>\n",
       "      <td>1</td>\n",
       "      <td>1</td>\n",
       "      <td>500</td>\n",
       "      <td>20</td>\n",
       "    </tr>\n",
       "    <tr>\n",
       "      <th>1</th>\n",
       "      <td>2</td>\n",
       "      <td>2</td>\n",
       "      <td>2</td>\n",
       "      <td>1</td>\n",
       "      <td>550</td>\n",
       "      <td>22</td>\n",
       "    </tr>\n",
       "    <tr>\n",
       "      <th>2</th>\n",
       "      <td>3</td>\n",
       "      <td>3</td>\n",
       "      <td>3</td>\n",
       "      <td>1</td>\n",
       "      <td>300</td>\n",
       "      <td>15</td>\n",
       "    </tr>\n",
       "    <tr>\n",
       "      <th>3</th>\n",
       "      <td>4</td>\n",
       "      <td>1</td>\n",
       "      <td>1</td>\n",
       "      <td>2</td>\n",
       "      <td>600</td>\n",
       "      <td>20</td>\n",
       "    </tr>\n",
       "    <tr>\n",
       "      <th>4</th>\n",
       "      <td>5</td>\n",
       "      <td>2</td>\n",
       "      <td>2</td>\n",
       "      <td>2</td>\n",
       "      <td>550</td>\n",
       "      <td>23</td>\n",
       "    </tr>\n",
       "    <tr>\n",
       "      <th>5</th>\n",
       "      <td>6</td>\n",
       "      <td>3</td>\n",
       "      <td>3</td>\n",
       "      <td>2</td>\n",
       "      <td>320</td>\n",
       "      <td>14</td>\n",
       "    </tr>\n",
       "    <tr>\n",
       "      <th>6</th>\n",
       "      <td>7</td>\n",
       "      <td>1</td>\n",
       "      <td>1</td>\n",
       "      <td>3</td>\n",
       "      <td>550</td>\n",
       "      <td>21</td>\n",
       "    </tr>\n",
       "    <tr>\n",
       "      <th>7</th>\n",
       "      <td>8</td>\n",
       "      <td>2</td>\n",
       "      <td>2</td>\n",
       "      <td>3</td>\n",
       "      <td>555</td>\n",
       "      <td>22</td>\n",
       "    </tr>\n",
       "    <tr>\n",
       "      <th>8</th>\n",
       "      <td>9</td>\n",
       "      <td>3</td>\n",
       "      <td>3</td>\n",
       "      <td>3</td>\n",
       "      <td>310</td>\n",
       "      <td>15</td>\n",
       "    </tr>\n",
       "  </tbody>\n",
       "</table>\n",
       "</div>"
      ],
      "text/plain": [
       "   enroll_id  Dept_ID  Loc_ID  year_ID  enrollment_count  Faculty_count\n",
       "0          1        1       1        1               500             20\n",
       "1          2        2       2        1               550             22\n",
       "2          3        3       3        1               300             15\n",
       "3          4        1       1        2               600             20\n",
       "4          5        2       2        2               550             23\n",
       "5          6        3       3        2               320             14\n",
       "6          7        1       1        3               550             21\n",
       "7          8        2       2        3               555             22\n",
       "8          9        3       3        3               310             15"
      ]
     },
     "execution_count": 18,
     "metadata": {},
     "output_type": "execute_result"
    }
   ],
   "source": [
    "enroll_data = {\n",
    "    \"enroll_id\": [1,2,3,4,5,6,7,8,9],\n",
    "    \"Dept_ID\": [1,2,3,1,2,3,1,2,3],\n",
    "    \"Loc_ID\": [1,2,3,1,2,3,1,2,3],\n",
    "    \"year_ID\": [1,1,1,2,2,2,3,3,3],\n",
    "    \"enrollment_count\": [500,550,300,600,550,320,550,555,310],\n",
    "    \"Faculty_count\": [20,22,15,20,23,14,21,22,15]\n",
    "}\n",
    "\n",
    "enroll_df = pd.DataFrame(enroll_data)\n",
    "enroll_df"
   ]
  },
  {
   "cell_type": "markdown",
   "id": "ac2b10dd",
   "metadata": {},
   "source": [
    "-1)\n",
    "-----------------------------------------------------------------------\n",
    "# Slice on Year = 2024 "
   ]
  },
  {
   "cell_type": "code",
   "execution_count": 37,
   "id": "5aae09b0",
   "metadata": {
    "scrolled": true
   },
   "outputs": [
    {
     "name": "stdout",
     "output_type": "stream",
     "text": [
      "Slice Operation Result:\n",
      "    enroll_id  Dept_ID  Loc_ID  year_ID  enrollment_count  Faculty_count  year\n",
      "3          4        1       1        2               600             20  2024\n",
      "4          5        2       2        2               550             23  2024\n",
      "5          6        3       3        2               320             14  2024\n"
     ]
    }
   ],
   "source": [
    "slice_df = enroll_df.merge(year_df, on='year_ID').query(\"year==2024\")\n",
    "print(\"Slice Operation Result:\\n\", slice_df)"
   ]
  },
  {
   "cell_type": "markdown",
   "id": "d5574fd0",
   "metadata": {},
   "source": [
    "-2)\n",
    "-----------------------------------------------------------------------\n",
    "# Dice to extract small cube from cuboid based on the condition given"
   ]
  },
  {
   "cell_type": "code",
   "execution_count": 38,
   "id": "aada5b8e",
   "metadata": {},
   "outputs": [
    {
     "name": "stdout",
     "output_type": "stream",
     "text": [
      "Diced Data for CSE at SOC:\n",
      "   enroll_id  Dept_ID  Loc_ID  year_ID  enrollment_count  Faculty_count  \\\n",
      "0          1        1       1        1               500             20   \n",
      "1          4        1       1        2               600             20   \n",
      "2          7        1       1        3               550             21   \n",
      "\n",
      "  Dept_Name Dept_Dean Loc_Name  \n",
      "0       CSE     Dr.SS      SOC  \n",
      "1       CSE     Dr.SS      SOC  \n",
      "2       CSE     Dr.SS      SOC  \n"
     ]
    }
   ],
   "source": [
    "diced_df = enroll_df.merge(dept_df,on='Dept_ID').merge(loc_df,on='Loc_ID').query(\"Dept_Name=='CSE' and Loc_Name=='SOC'\")\n",
    "print(\"Diced Data for CSE at SOC:\")\n",
    "print(diced_df)"
   ]
  },
  {
   "cell_type": "markdown",
   "id": "834e50f8",
   "metadata": {},
   "source": [
    "-3)\n",
    "-----------------------------------------------------------------------\n",
    "# Roll-up to combine two columns in the base cuboid"
   ]
  },
  {
   "cell_type": "code",
   "execution_count": 39,
   "id": "543b5867",
   "metadata": {},
   "outputs": [
    {
     "name": "stdout",
     "output_type": "stream",
     "text": [
      "Roll-up Data:\n",
      "   year_ID  enrollment_count  Faculty_count\n",
      "0        1              1350             57\n",
      "1        2              1470             57\n",
      "2        3              1415             58\n"
     ]
    }
   ],
   "source": [
    "rollup_data = enroll_df.merge(loc_df,on='Loc_ID').merge(year_df,on='year_ID')\n",
    "rollup_result = rollup_data.groupby('year_ID').agg({\n",
    "    'enrollment_count': np.sum,\n",
    "    'Faculty_count': np.sum\n",
    "}).reset_index()\n",
    "print(\"Roll-up Data:\")\n",
    "print(rollup_result)"
   ]
  },
  {
   "cell_type": "markdown",
   "id": "35725429",
   "metadata": {},
   "source": [
    "-4)\n",
    "-----------------------------------------------------------------------\n",
    "# Drill-down to split particular attribute"
   ]
  },
  {
   "cell_type": "code",
   "execution_count": 41,
   "id": "0d9811b6",
   "metadata": {},
   "outputs": [
    {
     "name": "stdout",
     "output_type": "stream",
     "text": [
      "drilldown_result:\n",
      "    enroll_id  Dept_ID  Loc_ID  year_ID  enrollment_count  Faculty_count  \\\n",
      "6          3        3       3        1               300             15   \n",
      "7          6        3       3        2               320             14   \n",
      "8          9        3       3        3               310             15   \n",
      "\n",
      "  Loc_Name  \n",
      "6      VKJ  \n",
      "7      VKJ  \n",
      "8      VKJ  \n"
     ]
    }
   ],
   "source": [
    "drilldown_data = enroll_df.merge(loc_df,on='Loc_ID')\n",
    "drilldown_result = drilldown_data.query(\"Loc_Name=='VKJ'\")\n",
    "print(\"drilldown_result:\\n\", drilldown_result)"
   ]
  },
  {
   "cell_type": "markdown",
   "id": "8513052c",
   "metadata": {},
   "source": [
    "-5)\n",
    "-----------------------------------------------------------------------\n",
    "# Pivot to view the cuboid in particular angle"
   ]
  },
  {
   "cell_type": "code",
   "execution_count": 42,
   "id": "733a0a41",
   "metadata": {},
   "outputs": [
    {
     "name": "stdout",
     "output_type": "stream",
     "text": [
      "Pivoted Data - Year-wise Enrollment by Department:\n",
      "year_ID      1    2    3\n",
      "Dept_Name               \n",
      "CSE        500  600  550\n",
      "ECE        550  550  555\n",
      "MECH       300  320  310\n"
     ]
    }
   ],
   "source": [
    "pivot_data = enroll_df.merge(dept_df,on='Dept_ID')\n",
    "pivot_result = pivot_data.pivot_table(index='Dept_Name',columns='year_ID',values='enrollment_count', aggfunc=np.sum, fill_value=0)\n",
    "print(\"Pivoted Data - Year-wise Enrollment by Department:\")\n",
    "print(pivot_result)"
   ]
  }
 ],
 "metadata": {
  "kernelspec": {
   "display_name": "Python 3 (ipykernel)",
   "language": "python",
   "name": "python3"
  },
  "language_info": {
   "codemirror_mode": {
    "name": "ipython",
    "version": 3
   },
   "file_extension": ".py",
   "mimetype": "text/x-python",
   "name": "python",
   "nbconvert_exporter": "python",
   "pygments_lexer": "ipython3",
   "version": "3.11.4"
  }
 },
 "nbformat": 4,
 "nbformat_minor": 5
}
